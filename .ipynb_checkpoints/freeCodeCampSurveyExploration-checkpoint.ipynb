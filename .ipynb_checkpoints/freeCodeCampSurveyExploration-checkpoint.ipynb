{
 "cells": [
  {
   "cell_type": "markdown",
   "metadata": {
    "colab_type": "text",
    "id": "vtOFBb92LCJp"
   },
   "source": [
    "#### author : `Ben de Vera`\n",
    "\n",
    "## Dataset\n",
    "freeCodeCamp Survey\n",
    "\n",
    "`2016 - https://github.com/freeCodeCamp/2016-new-coder-survey`\n",
    "\n",
    "`2017 - https://github.com/freeCodeCamp/2017-new-coder-survey`\n",
    "\n",
    "`2018 - https://github.com/freeCodeCamp/2018-new-coder-survey`\n",
    "\n",
    "## Research Question\n",
    "\n",
    "`What US software developers have in common?`"
   ]
  },
  {
   "cell_type": "code",
   "execution_count": 1,
   "metadata": {
    "colab": {},
    "colab_type": "code",
    "id": "LpNr3ouZF6Ui"
   },
   "outputs": [],
   "source": [
    "# imports \n",
    "import pandas as pd \n",
    "import numpy as np \n",
    "import matplotlib.pyplot as plt \n",
    "%matplotlib inline"
   ]
  },
  {
   "cell_type": "code",
   "execution_count": 2,
   "metadata": {
    "colab": {},
    "colab_type": "code",
    "id": "iJbG2gT8VPIb"
   },
   "outputs": [],
   "source": [
    "# adding all data urls into object\n",
    "urls = {\n",
    "    '2016': \"https://github.com/freeCodeCamp/2016-new-coder-survey/raw/c7eaf6b3da8e874e94d71960b6812a3e0ced0704/clean-data/2016-FCC-New-Coders-Survey-Data.csv\",\n",
    "    '2017': \"https://raw.githubusercontent.com/freeCodeCamp/2017-new-coder-survey/ed8a2c5118209fa26cc823fd33fedcf6fe5661ec/clean-data/2017-fCC-New-Coders-Survey-Data.csv\",\n",
    "    '2018': \"https://raw.githubusercontent.com/freeCodeCamp/2018-new-coder-survey/master/clean-data/2018-fCC-New-Coders-Survey-Data.csv\"\n",
    "    }"
   ]
  },
  {
   "cell_type": "markdown",
   "metadata": {
    "colab_type": "text",
    "id": "xddRx9b0L_0S"
   },
   "source": [
    "### Starting off by saving our datasets in the DataFrame objects *df*, *df_two* and *df_three*"
   ]
  },
  {
   "cell_type": "code",
   "execution_count": 3,
   "metadata": {
    "colab": {
     "base_uri": "https://localhost:8080/",
     "height": 431
    },
    "colab_type": "code",
    "executionInfo": {
     "elapsed": 1720,
     "status": "ok",
     "timestamp": 1578439677696,
     "user": {
      "displayName": "Ben de Vera",
      "photoUrl": "https://lh3.googleusercontent.com/a-/AAuE7mA3DLNfhTHUfZFWeFjapCnOSkof6GfUffa-k9VA=s64",
      "userId": "02830271359296331790"
     },
     "user_tz": 420
    },
    "id": "8LRUOoGXGACB",
    "outputId": "d4ec225d-13ff-4289-a1be-5adf8ddb18c9"
   },
   "outputs": [
    {
     "name": "stdout",
     "output_type": "stream",
     "text": [
      "(15620, 113)\n"
     ]
    },
    {
     "data": {
      "text/html": [
       "<div>\n",
       "<style scoped>\n",
       "    .dataframe tbody tr th:only-of-type {\n",
       "        vertical-align: middle;\n",
       "    }\n",
       "\n",
       "    .dataframe tbody tr th {\n",
       "        vertical-align: top;\n",
       "    }\n",
       "\n",
       "    .dataframe thead th {\n",
       "        text-align: right;\n",
       "    }\n",
       "</style>\n",
       "<table border=\"1\" class=\"dataframe\">\n",
       "  <thead>\n",
       "    <tr style=\"text-align: right;\">\n",
       "      <th></th>\n",
       "      <th>Age</th>\n",
       "      <th>AttendedBootcamp</th>\n",
       "      <th>BootcampFinish</th>\n",
       "      <th>BootcampFullJobAfter</th>\n",
       "      <th>BootcampLoanYesNo</th>\n",
       "      <th>BootcampMonthsAgo</th>\n",
       "      <th>BootcampName</th>\n",
       "      <th>BootcampPostSalary</th>\n",
       "      <th>BootcampRecommend</th>\n",
       "      <th>ChildrenNumber</th>\n",
       "      <th>...</th>\n",
       "      <th>ResourceSoloLearn</th>\n",
       "      <th>ResourceStackOverflow</th>\n",
       "      <th>ResourceTreehouse</th>\n",
       "      <th>ResourceUdacity</th>\n",
       "      <th>ResourceUdemy</th>\n",
       "      <th>ResourceW3Schools</th>\n",
       "      <th>ResourceYouTube</th>\n",
       "      <th>SchoolDegree</th>\n",
       "      <th>SchoolMajor</th>\n",
       "      <th>StudentDebtOwe</th>\n",
       "    </tr>\n",
       "  </thead>\n",
       "  <tbody>\n",
       "    <tr>\n",
       "      <th>0</th>\n",
       "      <td>28.0</td>\n",
       "      <td>0.0</td>\n",
       "      <td>NaN</td>\n",
       "      <td>NaN</td>\n",
       "      <td>NaN</td>\n",
       "      <td>NaN</td>\n",
       "      <td>NaN</td>\n",
       "      <td>NaN</td>\n",
       "      <td>NaN</td>\n",
       "      <td>NaN</td>\n",
       "      <td>...</td>\n",
       "      <td>NaN</td>\n",
       "      <td>NaN</td>\n",
       "      <td>NaN</td>\n",
       "      <td>NaN</td>\n",
       "      <td>NaN</td>\n",
       "      <td>NaN</td>\n",
       "      <td>NaN</td>\n",
       "      <td>some college credit, no degree</td>\n",
       "      <td>NaN</td>\n",
       "      <td>20000.0</td>\n",
       "    </tr>\n",
       "    <tr>\n",
       "      <th>1</th>\n",
       "      <td>22.0</td>\n",
       "      <td>0.0</td>\n",
       "      <td>NaN</td>\n",
       "      <td>NaN</td>\n",
       "      <td>NaN</td>\n",
       "      <td>NaN</td>\n",
       "      <td>NaN</td>\n",
       "      <td>NaN</td>\n",
       "      <td>NaN</td>\n",
       "      <td>NaN</td>\n",
       "      <td>...</td>\n",
       "      <td>NaN</td>\n",
       "      <td>NaN</td>\n",
       "      <td>NaN</td>\n",
       "      <td>NaN</td>\n",
       "      <td>1.0</td>\n",
       "      <td>NaN</td>\n",
       "      <td>NaN</td>\n",
       "      <td>some college credit, no degree</td>\n",
       "      <td>NaN</td>\n",
       "      <td>NaN</td>\n",
       "    </tr>\n",
       "    <tr>\n",
       "      <th>2</th>\n",
       "      <td>19.0</td>\n",
       "      <td>0.0</td>\n",
       "      <td>NaN</td>\n",
       "      <td>NaN</td>\n",
       "      <td>NaN</td>\n",
       "      <td>NaN</td>\n",
       "      <td>NaN</td>\n",
       "      <td>NaN</td>\n",
       "      <td>NaN</td>\n",
       "      <td>NaN</td>\n",
       "      <td>...</td>\n",
       "      <td>NaN</td>\n",
       "      <td>NaN</td>\n",
       "      <td>NaN</td>\n",
       "      <td>NaN</td>\n",
       "      <td>NaN</td>\n",
       "      <td>NaN</td>\n",
       "      <td>NaN</td>\n",
       "      <td>high school diploma or equivalent (GED)</td>\n",
       "      <td>NaN</td>\n",
       "      <td>NaN</td>\n",
       "    </tr>\n",
       "    <tr>\n",
       "      <th>3</th>\n",
       "      <td>26.0</td>\n",
       "      <td>0.0</td>\n",
       "      <td>NaN</td>\n",
       "      <td>NaN</td>\n",
       "      <td>NaN</td>\n",
       "      <td>NaN</td>\n",
       "      <td>NaN</td>\n",
       "      <td>NaN</td>\n",
       "      <td>NaN</td>\n",
       "      <td>NaN</td>\n",
       "      <td>...</td>\n",
       "      <td>NaN</td>\n",
       "      <td>NaN</td>\n",
       "      <td>NaN</td>\n",
       "      <td>NaN</td>\n",
       "      <td>NaN</td>\n",
       "      <td>NaN</td>\n",
       "      <td>NaN</td>\n",
       "      <td>bachelor's degree</td>\n",
       "      <td>Cinematography And Film</td>\n",
       "      <td>7000.0</td>\n",
       "    </tr>\n",
       "    <tr>\n",
       "      <th>4</th>\n",
       "      <td>20.0</td>\n",
       "      <td>0.0</td>\n",
       "      <td>NaN</td>\n",
       "      <td>NaN</td>\n",
       "      <td>NaN</td>\n",
       "      <td>NaN</td>\n",
       "      <td>NaN</td>\n",
       "      <td>NaN</td>\n",
       "      <td>NaN</td>\n",
       "      <td>NaN</td>\n",
       "      <td>...</td>\n",
       "      <td>NaN</td>\n",
       "      <td>NaN</td>\n",
       "      <td>NaN</td>\n",
       "      <td>NaN</td>\n",
       "      <td>NaN</td>\n",
       "      <td>NaN</td>\n",
       "      <td>NaN</td>\n",
       "      <td>some college credit, no degree</td>\n",
       "      <td>NaN</td>\n",
       "      <td>NaN</td>\n",
       "    </tr>\n",
       "  </tbody>\n",
       "</table>\n",
       "<p>5 rows × 113 columns</p>\n",
       "</div>"
      ],
      "text/plain": [
       "    Age  AttendedBootcamp  BootcampFinish  BootcampFullJobAfter  \\\n",
       "0  28.0               0.0             NaN                   NaN   \n",
       "1  22.0               0.0             NaN                   NaN   \n",
       "2  19.0               0.0             NaN                   NaN   \n",
       "3  26.0               0.0             NaN                   NaN   \n",
       "4  20.0               0.0             NaN                   NaN   \n",
       "\n",
       "   BootcampLoanYesNo  BootcampMonthsAgo BootcampName  BootcampPostSalary  \\\n",
       "0                NaN                NaN          NaN                 NaN   \n",
       "1                NaN                NaN          NaN                 NaN   \n",
       "2                NaN                NaN          NaN                 NaN   \n",
       "3                NaN                NaN          NaN                 NaN   \n",
       "4                NaN                NaN          NaN                 NaN   \n",
       "\n",
       "   BootcampRecommend  ChildrenNumber       ...       ResourceSoloLearn  \\\n",
       "0                NaN             NaN       ...                     NaN   \n",
       "1                NaN             NaN       ...                     NaN   \n",
       "2                NaN             NaN       ...                     NaN   \n",
       "3                NaN             NaN       ...                     NaN   \n",
       "4                NaN             NaN       ...                     NaN   \n",
       "\n",
       "   ResourceStackOverflow  ResourceTreehouse  ResourceUdacity  ResourceUdemy  \\\n",
       "0                    NaN                NaN              NaN            NaN   \n",
       "1                    NaN                NaN              NaN            1.0   \n",
       "2                    NaN                NaN              NaN            NaN   \n",
       "3                    NaN                NaN              NaN            NaN   \n",
       "4                    NaN                NaN              NaN            NaN   \n",
       "\n",
       "   ResourceW3Schools  ResourceYouTube  \\\n",
       "0                NaN              NaN   \n",
       "1                NaN              NaN   \n",
       "2                NaN              NaN   \n",
       "3                NaN              NaN   \n",
       "4                NaN              NaN   \n",
       "\n",
       "                              SchoolDegree              SchoolMajor  \\\n",
       "0           some college credit, no degree                      NaN   \n",
       "1           some college credit, no degree                      NaN   \n",
       "2  high school diploma or equivalent (GED)                      NaN   \n",
       "3                        bachelor's degree  Cinematography And Film   \n",
       "4           some college credit, no degree                      NaN   \n",
       "\n",
       "   StudentDebtOwe  \n",
       "0         20000.0  \n",
       "1             NaN  \n",
       "2             NaN  \n",
       "3          7000.0  \n",
       "4             NaN  \n",
       "\n",
       "[5 rows x 113 columns]"
      ]
     },
     "execution_count": 3,
     "metadata": {},
     "output_type": "execute_result"
    }
   ],
   "source": [
    "# reading in 2016 survey data\n",
    "df = pd.read_csv(urls['2016'], low_memory=False)\n",
    "print(df.shape)\n",
    "df.head()"
   ]
  },
  {
   "cell_type": "code",
   "execution_count": 4,
   "metadata": {
    "colab": {
     "base_uri": "https://localhost:8080/",
     "height": 431
    },
    "colab_type": "code",
    "executionInfo": {
     "elapsed": 1467,
     "status": "ok",
     "timestamp": 1578439692490,
     "user": {
      "displayName": "Ben de Vera",
      "photoUrl": "https://lh3.googleusercontent.com/a-/AAuE7mA3DLNfhTHUfZFWeFjapCnOSkof6GfUffa-k9VA=s64",
      "userId": "02830271359296331790"
     },
     "user_tz": 420
    },
    "id": "tOO7Rs3QJaUN",
    "outputId": "3cd6b348-6091-4a5c-9112-579c0ea3b9aa"
   },
   "outputs": [
    {
     "name": "stdout",
     "output_type": "stream",
     "text": [
      "(18175, 136)\n"
     ]
    },
    {
     "data": {
      "text/html": [
       "<div>\n",
       "<style scoped>\n",
       "    .dataframe tbody tr th:only-of-type {\n",
       "        vertical-align: middle;\n",
       "    }\n",
       "\n",
       "    .dataframe tbody tr th {\n",
       "        vertical-align: top;\n",
       "    }\n",
       "\n",
       "    .dataframe thead th {\n",
       "        text-align: right;\n",
       "    }\n",
       "</style>\n",
       "<table border=\"1\" class=\"dataframe\">\n",
       "  <thead>\n",
       "    <tr style=\"text-align: right;\">\n",
       "      <th></th>\n",
       "      <th>Age</th>\n",
       "      <th>AttendedBootcamp</th>\n",
       "      <th>BootcampFinish</th>\n",
       "      <th>BootcampLoanYesNo</th>\n",
       "      <th>BootcampName</th>\n",
       "      <th>BootcampRecommend</th>\n",
       "      <th>ChildrenNumber</th>\n",
       "      <th>CityPopulation</th>\n",
       "      <th>CodeEventConferences</th>\n",
       "      <th>CodeEventDjangoGirls</th>\n",
       "      <th>...</th>\n",
       "      <th>YouTubeFCC</th>\n",
       "      <th>YouTubeFunFunFunction</th>\n",
       "      <th>YouTubeGoogleDev</th>\n",
       "      <th>YouTubeLearnCode</th>\n",
       "      <th>YouTubeLevelUpTuts</th>\n",
       "      <th>YouTubeMIT</th>\n",
       "      <th>YouTubeMozillaHacks</th>\n",
       "      <th>YouTubeOther</th>\n",
       "      <th>YouTubeSimplilearn</th>\n",
       "      <th>YouTubeTheNewBoston</th>\n",
       "    </tr>\n",
       "  </thead>\n",
       "  <tbody>\n",
       "    <tr>\n",
       "      <th>0</th>\n",
       "      <td>27.0</td>\n",
       "      <td>0.0</td>\n",
       "      <td>NaN</td>\n",
       "      <td>NaN</td>\n",
       "      <td>NaN</td>\n",
       "      <td>NaN</td>\n",
       "      <td>NaN</td>\n",
       "      <td>more than 1 million</td>\n",
       "      <td>NaN</td>\n",
       "      <td>NaN</td>\n",
       "      <td>...</td>\n",
       "      <td>NaN</td>\n",
       "      <td>NaN</td>\n",
       "      <td>NaN</td>\n",
       "      <td>NaN</td>\n",
       "      <td>NaN</td>\n",
       "      <td>NaN</td>\n",
       "      <td>NaN</td>\n",
       "      <td>NaN</td>\n",
       "      <td>NaN</td>\n",
       "      <td>NaN</td>\n",
       "    </tr>\n",
       "    <tr>\n",
       "      <th>1</th>\n",
       "      <td>34.0</td>\n",
       "      <td>0.0</td>\n",
       "      <td>NaN</td>\n",
       "      <td>NaN</td>\n",
       "      <td>NaN</td>\n",
       "      <td>NaN</td>\n",
       "      <td>NaN</td>\n",
       "      <td>less than 100,000</td>\n",
       "      <td>NaN</td>\n",
       "      <td>NaN</td>\n",
       "      <td>...</td>\n",
       "      <td>1.0</td>\n",
       "      <td>NaN</td>\n",
       "      <td>NaN</td>\n",
       "      <td>NaN</td>\n",
       "      <td>NaN</td>\n",
       "      <td>NaN</td>\n",
       "      <td>NaN</td>\n",
       "      <td>NaN</td>\n",
       "      <td>NaN</td>\n",
       "      <td>NaN</td>\n",
       "    </tr>\n",
       "    <tr>\n",
       "      <th>2</th>\n",
       "      <td>21.0</td>\n",
       "      <td>0.0</td>\n",
       "      <td>NaN</td>\n",
       "      <td>NaN</td>\n",
       "      <td>NaN</td>\n",
       "      <td>NaN</td>\n",
       "      <td>NaN</td>\n",
       "      <td>more than 1 million</td>\n",
       "      <td>NaN</td>\n",
       "      <td>NaN</td>\n",
       "      <td>...</td>\n",
       "      <td>NaN</td>\n",
       "      <td>NaN</td>\n",
       "      <td>NaN</td>\n",
       "      <td>1.0</td>\n",
       "      <td>1.0</td>\n",
       "      <td>NaN</td>\n",
       "      <td>NaN</td>\n",
       "      <td>NaN</td>\n",
       "      <td>NaN</td>\n",
       "      <td>NaN</td>\n",
       "    </tr>\n",
       "    <tr>\n",
       "      <th>3</th>\n",
       "      <td>26.0</td>\n",
       "      <td>0.0</td>\n",
       "      <td>NaN</td>\n",
       "      <td>NaN</td>\n",
       "      <td>NaN</td>\n",
       "      <td>NaN</td>\n",
       "      <td>NaN</td>\n",
       "      <td>between 100,000 and 1 million</td>\n",
       "      <td>NaN</td>\n",
       "      <td>NaN</td>\n",
       "      <td>...</td>\n",
       "      <td>1.0</td>\n",
       "      <td>1.0</td>\n",
       "      <td>NaN</td>\n",
       "      <td>NaN</td>\n",
       "      <td>1.0</td>\n",
       "      <td>NaN</td>\n",
       "      <td>NaN</td>\n",
       "      <td>NaN</td>\n",
       "      <td>NaN</td>\n",
       "      <td>NaN</td>\n",
       "    </tr>\n",
       "    <tr>\n",
       "      <th>4</th>\n",
       "      <td>20.0</td>\n",
       "      <td>0.0</td>\n",
       "      <td>NaN</td>\n",
       "      <td>NaN</td>\n",
       "      <td>NaN</td>\n",
       "      <td>NaN</td>\n",
       "      <td>NaN</td>\n",
       "      <td>between 100,000 and 1 million</td>\n",
       "      <td>NaN</td>\n",
       "      <td>NaN</td>\n",
       "      <td>...</td>\n",
       "      <td>NaN</td>\n",
       "      <td>NaN</td>\n",
       "      <td>NaN</td>\n",
       "      <td>NaN</td>\n",
       "      <td>NaN</td>\n",
       "      <td>NaN</td>\n",
       "      <td>NaN</td>\n",
       "      <td>NaN</td>\n",
       "      <td>NaN</td>\n",
       "      <td>NaN</td>\n",
       "    </tr>\n",
       "  </tbody>\n",
       "</table>\n",
       "<p>5 rows × 136 columns</p>\n",
       "</div>"
      ],
      "text/plain": [
       "    Age  AttendedBootcamp  BootcampFinish  BootcampLoanYesNo BootcampName  \\\n",
       "0  27.0               0.0             NaN                NaN          NaN   \n",
       "1  34.0               0.0             NaN                NaN          NaN   \n",
       "2  21.0               0.0             NaN                NaN          NaN   \n",
       "3  26.0               0.0             NaN                NaN          NaN   \n",
       "4  20.0               0.0             NaN                NaN          NaN   \n",
       "\n",
       "   BootcampRecommend  ChildrenNumber                 CityPopulation  \\\n",
       "0                NaN             NaN            more than 1 million   \n",
       "1                NaN             NaN              less than 100,000   \n",
       "2                NaN             NaN            more than 1 million   \n",
       "3                NaN             NaN  between 100,000 and 1 million   \n",
       "4                NaN             NaN  between 100,000 and 1 million   \n",
       "\n",
       "   CodeEventConferences  CodeEventDjangoGirls         ...           \\\n",
       "0                   NaN                   NaN         ...            \n",
       "1                   NaN                   NaN         ...            \n",
       "2                   NaN                   NaN         ...            \n",
       "3                   NaN                   NaN         ...            \n",
       "4                   NaN                   NaN         ...            \n",
       "\n",
       "   YouTubeFCC  YouTubeFunFunFunction  YouTubeGoogleDev  YouTubeLearnCode  \\\n",
       "0         NaN                    NaN               NaN               NaN   \n",
       "1         1.0                    NaN               NaN               NaN   \n",
       "2         NaN                    NaN               NaN               1.0   \n",
       "3         1.0                    1.0               NaN               NaN   \n",
       "4         NaN                    NaN               NaN               NaN   \n",
       "\n",
       "   YouTubeLevelUpTuts  YouTubeMIT  YouTubeMozillaHacks YouTubeOther  \\\n",
       "0                 NaN         NaN                  NaN          NaN   \n",
       "1                 NaN         NaN                  NaN          NaN   \n",
       "2                 1.0         NaN                  NaN          NaN   \n",
       "3                 1.0         NaN                  NaN          NaN   \n",
       "4                 NaN         NaN                  NaN          NaN   \n",
       "\n",
       "   YouTubeSimplilearn  YouTubeTheNewBoston  \n",
       "0                 NaN                  NaN  \n",
       "1                 NaN                  NaN  \n",
       "2                 NaN                  NaN  \n",
       "3                 NaN                  NaN  \n",
       "4                 NaN                  NaN  \n",
       "\n",
       "[5 rows x 136 columns]"
      ]
     },
     "execution_count": 4,
     "metadata": {},
     "output_type": "execute_result"
    }
   ],
   "source": [
    "# reading in 2017 survey data \n",
    "df_two = pd.read_csv(urls['2017'], low_memory=False)\n",
    "print(df_two.shape)\n",
    "df_two.head(5)"
   ]
  },
  {
   "cell_type": "code",
   "execution_count": 5,
   "metadata": {
    "colab": {
     "base_uri": "https://localhost:8080/",
     "height": 447
    },
    "colab_type": "code",
    "executionInfo": {
     "elapsed": 1824,
     "status": "ok",
     "timestamp": 1578439695897,
     "user": {
      "displayName": "Ben de Vera",
      "photoUrl": "https://lh3.googleusercontent.com/a-/AAuE7mA3DLNfhTHUfZFWeFjapCnOSkof6GfUffa-k9VA=s64",
      "userId": "02830271359296331790"
     },
     "user_tz": 420
    },
    "id": "vJ4yRomjy0tU",
    "outputId": "bff47262-3bf4-4165-a2fa-553a0d20fae4"
   },
   "outputs": [
    {
     "name": "stdout",
     "output_type": "stream",
     "text": [
      "(28397, 137)\n"
     ]
    },
    {
     "data": {
      "text/html": [
       "<div>\n",
       "<style scoped>\n",
       "    .dataframe tbody tr th:only-of-type {\n",
       "        vertical-align: middle;\n",
       "    }\n",
       "\n",
       "    .dataframe tbody tr th {\n",
       "        vertical-align: top;\n",
       "    }\n",
       "\n",
       "    .dataframe thead th {\n",
       "        text-align: right;\n",
       "    }\n",
       "</style>\n",
       "<table border=\"1\" class=\"dataframe\">\n",
       "  <thead>\n",
       "    <tr style=\"text-align: right;\">\n",
       "      <th></th>\n",
       "      <th>ID</th>\n",
       "      <th>is_software_dev</th>\n",
       "      <th>is_first_dev_job</th>\n",
       "      <th>months_job_search</th>\n",
       "      <th>job_pref</th>\n",
       "      <th>job_intr_fllstck</th>\n",
       "      <th>job_intr_backend</th>\n",
       "      <th>job_intr_frntend</th>\n",
       "      <th>job_intr_mobile</th>\n",
       "      <th>job_intr_devops</th>\n",
       "      <th>...</th>\n",
       "      <th>last_yr_income</th>\n",
       "      <th>communite_time</th>\n",
       "      <th>is_self_employed</th>\n",
       "      <th>has_served_military</th>\n",
       "      <th>is_recv_disab_bnft</th>\n",
       "      <th>has_high_spd_ntnet</th>\n",
       "      <th>time_start</th>\n",
       "      <th>time_end</th>\n",
       "      <th>network_id</th>\n",
       "      <th>time_total_sec</th>\n",
       "    </tr>\n",
       "  </thead>\n",
       "  <tbody>\n",
       "    <tr>\n",
       "      <th>0</th>\n",
       "      <td>64e4170f7f25253d56019818b7e9fdc0</td>\n",
       "      <td>0.0</td>\n",
       "      <td>NaN</td>\n",
       "      <td>NaN</td>\n",
       "      <td>freelance</td>\n",
       "      <td>NaN</td>\n",
       "      <td>NaN</td>\n",
       "      <td>NaN</td>\n",
       "      <td>NaN</td>\n",
       "      <td>NaN</td>\n",
       "      <td>...</td>\n",
       "      <td>70000.0</td>\n",
       "      <td>15 to 29 minutes</td>\n",
       "      <td>0.0</td>\n",
       "      <td>0.0</td>\n",
       "      <td>0.0</td>\n",
       "      <td>1.0</td>\n",
       "      <td>2018-10-24T20:48:37Z</td>\n",
       "      <td>2018-10-24T20:55:53Z</td>\n",
       "      <td>4fc684f97d</td>\n",
       "      <td>436</td>\n",
       "    </tr>\n",
       "    <tr>\n",
       "      <th>1</th>\n",
       "      <td>bc030166e4c7f8cb045c28ee98d5a6cd</td>\n",
       "      <td>0.0</td>\n",
       "      <td>NaN</td>\n",
       "      <td>NaN</td>\n",
       "      <td>work for a medium-sized company</td>\n",
       "      <td>NaN</td>\n",
       "      <td>1.0</td>\n",
       "      <td>NaN</td>\n",
       "      <td>NaN</td>\n",
       "      <td>NaN</td>\n",
       "      <td>...</td>\n",
       "      <td>NaN</td>\n",
       "      <td>NaN</td>\n",
       "      <td>NaN</td>\n",
       "      <td>0.0</td>\n",
       "      <td>0.0</td>\n",
       "      <td>1.0</td>\n",
       "      <td>2018-10-24T19:55:23Z</td>\n",
       "      <td>2018-10-24T20:05:57Z</td>\n",
       "      <td>f2b0eef42a</td>\n",
       "      <td>634</td>\n",
       "    </tr>\n",
       "    <tr>\n",
       "      <th>2</th>\n",
       "      <td>d23d65229c00192bb5a48e73c558a0bb</td>\n",
       "      <td>0.0</td>\n",
       "      <td>NaN</td>\n",
       "      <td>NaN</td>\n",
       "      <td>work for a multinational corporation</td>\n",
       "      <td>1.0</td>\n",
       "      <td>NaN</td>\n",
       "      <td>NaN</td>\n",
       "      <td>1.0</td>\n",
       "      <td>NaN</td>\n",
       "      <td>...</td>\n",
       "      <td>NaN</td>\n",
       "      <td>NaN</td>\n",
       "      <td>NaN</td>\n",
       "      <td>0.0</td>\n",
       "      <td>0.0</td>\n",
       "      <td>1.0</td>\n",
       "      <td>2018-10-24T19:03:57Z</td>\n",
       "      <td>2018-10-24T19:14:08Z</td>\n",
       "      <td>b1cb01d6fd</td>\n",
       "      <td>611</td>\n",
       "    </tr>\n",
       "    <tr>\n",
       "      <th>3</th>\n",
       "      <td>c601014027aa378a84a8e4047cab50e3</td>\n",
       "      <td>0.0</td>\n",
       "      <td>NaN</td>\n",
       "      <td>NaN</td>\n",
       "      <td>freelance</td>\n",
       "      <td>NaN</td>\n",
       "      <td>NaN</td>\n",
       "      <td>NaN</td>\n",
       "      <td>NaN</td>\n",
       "      <td>NaN</td>\n",
       "      <td>...</td>\n",
       "      <td>NaN</td>\n",
       "      <td>NaN</td>\n",
       "      <td>NaN</td>\n",
       "      <td>1.0</td>\n",
       "      <td>0.0</td>\n",
       "      <td>1.0</td>\n",
       "      <td>2018-10-24T18:40:56Z</td>\n",
       "      <td>2018-10-24T18:48:54Z</td>\n",
       "      <td>f7878cd625</td>\n",
       "      <td>478</td>\n",
       "    </tr>\n",
       "    <tr>\n",
       "      <th>4</th>\n",
       "      <td>3a461a8244498a13964071d93ab977ea</td>\n",
       "      <td>1.0</td>\n",
       "      <td>1.0</td>\n",
       "      <td>6.0</td>\n",
       "      <td>NaN</td>\n",
       "      <td>NaN</td>\n",
       "      <td>NaN</td>\n",
       "      <td>NaN</td>\n",
       "      <td>NaN</td>\n",
       "      <td>NaN</td>\n",
       "      <td>...</td>\n",
       "      <td>9000.0</td>\n",
       "      <td>30 to 44 minutes</td>\n",
       "      <td>0.0</td>\n",
       "      <td>0.0</td>\n",
       "      <td>0.0</td>\n",
       "      <td>1.0</td>\n",
       "      <td>2018-10-24T17:54:59Z</td>\n",
       "      <td>2018-10-24T18:03:42Z</td>\n",
       "      <td>94ae3fc502</td>\n",
       "      <td>523</td>\n",
       "    </tr>\n",
       "  </tbody>\n",
       "</table>\n",
       "<p>5 rows × 137 columns</p>\n",
       "</div>"
      ],
      "text/plain": [
       "                                 ID  is_software_dev  is_first_dev_job  \\\n",
       "0  64e4170f7f25253d56019818b7e9fdc0              0.0               NaN   \n",
       "1  bc030166e4c7f8cb045c28ee98d5a6cd              0.0               NaN   \n",
       "2  d23d65229c00192bb5a48e73c558a0bb              0.0               NaN   \n",
       "3  c601014027aa378a84a8e4047cab50e3              0.0               NaN   \n",
       "4  3a461a8244498a13964071d93ab977ea              1.0               1.0   \n",
       "\n",
       "   months_job_search                              job_pref  job_intr_fllstck  \\\n",
       "0                NaN                             freelance               NaN   \n",
       "1                NaN       work for a medium-sized company               NaN   \n",
       "2                NaN  work for a multinational corporation               1.0   \n",
       "3                NaN                             freelance               NaN   \n",
       "4                6.0                                   NaN               NaN   \n",
       "\n",
       "   job_intr_backend  job_intr_frntend  job_intr_mobile  job_intr_devops  \\\n",
       "0               NaN               NaN              NaN              NaN   \n",
       "1               1.0               NaN              NaN              NaN   \n",
       "2               NaN               NaN              1.0              NaN   \n",
       "3               NaN               NaN              NaN              NaN   \n",
       "4               NaN               NaN              NaN              NaN   \n",
       "\n",
       "       ...        last_yr_income    communite_time  is_self_employed  \\\n",
       "0      ...               70000.0  15 to 29 minutes               0.0   \n",
       "1      ...                   NaN               NaN               NaN   \n",
       "2      ...                   NaN               NaN               NaN   \n",
       "3      ...                   NaN               NaN               NaN   \n",
       "4      ...                9000.0  30 to 44 minutes               0.0   \n",
       "\n",
       "   has_served_military  is_recv_disab_bnft  has_high_spd_ntnet  \\\n",
       "0                  0.0                 0.0                 1.0   \n",
       "1                  0.0                 0.0                 1.0   \n",
       "2                  0.0                 0.0                 1.0   \n",
       "3                  1.0                 0.0                 1.0   \n",
       "4                  0.0                 0.0                 1.0   \n",
       "\n",
       "             time_start              time_end  network_id time_total_sec  \n",
       "0  2018-10-24T20:48:37Z  2018-10-24T20:55:53Z  4fc684f97d            436  \n",
       "1  2018-10-24T19:55:23Z  2018-10-24T20:05:57Z  f2b0eef42a            634  \n",
       "2  2018-10-24T19:03:57Z  2018-10-24T19:14:08Z  b1cb01d6fd            611  \n",
       "3  2018-10-24T18:40:56Z  2018-10-24T18:48:54Z  f7878cd625            478  \n",
       "4  2018-10-24T17:54:59Z  2018-10-24T18:03:42Z  94ae3fc502            523  \n",
       "\n",
       "[5 rows x 137 columns]"
      ]
     },
     "execution_count": 5,
     "metadata": {},
     "output_type": "execute_result"
    }
   ],
   "source": [
    "# reading in 2018 survey data\n",
    "df_three = pd.read_csv(urls['2018'], low_memory=False)\n",
    "print(df_three.shape)\n",
    "df_three.head(5)"
   ]
  },
  {
   "cell_type": "code",
   "execution_count": 6,
   "metadata": {
    "colab": {
     "base_uri": "https://localhost:8080/",
     "height": 34
    },
    "colab_type": "code",
    "executionInfo": {
     "elapsed": 210,
     "status": "ok",
     "timestamp": 1578439699109,
     "user": {
      "displayName": "Ben de Vera",
      "photoUrl": "https://lh3.googleusercontent.com/a-/AAuE7mA3DLNfhTHUfZFWeFjapCnOSkof6GfUffa-k9VA=s64",
      "userId": "02830271359296331790"
     },
     "user_tz": 420
    },
    "id": "WruX30yiB9DZ",
    "outputId": "f8d4ddc6-b5ad-4e36-e285-691fcc0a0946"
   },
   "outputs": [
    {
     "data": {
      "text/plain": [
       "62192"
      ]
     },
     "execution_count": 6,
     "metadata": {},
     "output_type": "execute_result"
    }
   ],
   "source": [
    "# finding total survey submissions before filtering to US/non-null submissions\n",
    "df.shape[0] + df_two.shape[0] + df_three.shape[0]"
   ]
  },
  {
   "cell_type": "markdown",
   "metadata": {
    "colab_type": "text",
    "id": "_kScNBVPCMGL"
   },
   "source": [
    "### There are a total of 62,192 total submissions to the 2016, 2017 and 2018 freeCodeCamp survey."
   ]
  },
  {
   "cell_type": "markdown",
   "metadata": {
    "colab_type": "text",
    "id": "0I7fDYo-MQgO"
   },
   "source": [
    "### Defining function to clean DataFrames (preprocessing)"
   ]
  },
  {
   "cell_type": "code",
   "execution_count": 7,
   "metadata": {
    "colab": {},
    "colab_type": "code",
    "id": "adaD23syGD00"
   },
   "outputs": [],
   "source": [
    "def clean_df(df, year, resource_columns):\n",
    "  # filtering to subset with only US citizen responders\n",
    "  column_names = ['Age', 'AttendedBootcamp', 'EmploymentField', \n",
    "                  'EmploymentStatus', 'Gender', 'Income', 'IsSoftwareDev',\n",
    "                  'MoneyForLearning', 'MonthsProgramming', 'SchoolDegree', \n",
    "                  'SchoolMajor', 'StudentDebtOwe']\n",
    "  final_resource_names = ['ResourceCodecademy', 'ResourceCodeWars', \n",
    "                        'ResourceCoursera', 'ResourceEdX',\n",
    "                        'ResourceEggHead', 'ResourceFCC', 'ResourceHackerRank',\n",
    "                        'ResourceKhanAcademy', 'ResourceLynda', 'ResourceMDN', \n",
    "                        'ResourcePluralSight', 'ResourceStackOverflow', \n",
    "                        'ResourceTreehouse', 'ResourceUdacity', 'ResourceUdemy']\n",
    "  if year == '2016' or year == '2017':\n",
    "    df = df[df['CountryCitizen'] == 'United States of America']\n",
    "    # grabbing columns needed for running analysis\n",
    "    df = df[column_names+resource_columns]\n",
    "    df.columns = column_names + final_resource_names\n",
    "  else:\n",
    "    df = df[df['country_citizen'] == 'United States of America']\n",
    "    df = df[['age', 'bootcamp_attend', 'curr_field', 'curr_emplymnt', 'gender', \n",
    "            'last_yr_income', 'is_software_dev',\n",
    "            'money_for_learning', 'months_programming', 'school_degree',\n",
    "            'school_major', 'student_debt_amt'] + resource_columns]\n",
    "    df.columns = column_names + final_resource_names\n",
    "  # dropping rows that have nulls that are vital to insights\n",
    "  columns = ['AttendedBootcamp', 'IsSoftwareDev', 'EmploymentStatus', \n",
    "            'MoneyForLearning', 'MonthsProgramming', 'SchoolDegree']\n",
    "  df.dropna(axis=0, subset=columns, inplace=True)\n",
    "  # adding the year as a column\n",
    "  df['year'] = year\n",
    "  # creating HasBSCSDegree (Bachelors CS Only)\n",
    "  BS = df['SchoolDegree'] == \"bachelor's degree\"\n",
    "  CS = df['SchoolMajor'] == \"Computer Science\"\n",
    "  df['HasBSCSDegree'] = (BS & CS)\n",
    "  df['HasBSCSDegree'].replace({True: 1, False: 0}, inplace=True)\n",
    "  return df"
   ]
  },
  {
   "cell_type": "code",
   "execution_count": 8,
   "metadata": {
    "colab": {
     "base_uri": "https://localhost:8080/",
     "height": 70
    },
    "colab_type": "code",
    "executionInfo": {
     "elapsed": 210,
     "status": "ok",
     "timestamp": 1578438875637,
     "user": {
      "displayName": "Ben de Vera",
      "photoUrl": "https://lh3.googleusercontent.com/a-/AAuE7mA3DLNfhTHUfZFWeFjapCnOSkof6GfUffa-k9VA=s64",
      "userId": "02830271359296331790"
     },
     "user_tz": 420
    },
    "id": "rahTfYBNG4C1",
    "outputId": "ea99609a-a7c2-4544-c5b5-cfce638d2b77"
   },
   "outputs": [
    {
     "name": "stdout",
     "output_type": "stream",
     "text": [
      "DF 1 shape: (5440, 29)\n",
      "DF 2 shape: (4875, 29)\n",
      "DF 3 shape: (7842, 29)\n"
     ]
    }
   ],
   "source": [
    "# cleaning each dataframe and checking resulting shape\n",
    "resource_columns_one = ['ResourceCodecademy', 'ResourceCodeWars', \n",
    "                        'ResourceCoursera', 'ResourceEdX',\n",
    "                        'ResourceEggHead', 'ResourceFCC', 'ResourceHackerRank',\n",
    "                        'ResourceKhanAcademy', 'ResourceLynda', 'ResourceMDN', \n",
    "                        'ResourcePluralSight', 'ResourceStackOverflow', \n",
    "                        'ResourceTreehouse', 'ResourceUdacity', 'ResourceUdemy']\n",
    "resource_columns_two = ['ResourceCodecademy', 'ResourceCodeWars', \n",
    "                        'ResourceCoursera', 'ResourceEdX',\n",
    "                        'ResourceEgghead', 'ResourceFCC', 'ResourceHackerRank',\n",
    "                        'ResourceKA', 'ResourceLynda', 'ResourceMDN', \n",
    "                        'ResourcePluralSight', 'ResourceSO', \n",
    "                        'ResourceTreehouse', 'ResourceUdacity', 'ResourceUdemy']\n",
    "resource_columns_three = ['rsrc_codeacdm', 'rsrc_code_wars', 'rsrc_coursera', \n",
    "                        'rsrc_edx', 'rsrc_egghead', \n",
    "                        'rsrc_fcc', 'rsrc_hackerrank', 'rsrc_khan_acdm', \n",
    "                        'rsrc_lynda', 'rsrc_mdn', 'rsrc_pluralsght', 'rsrc_so',\n",
    "                        'rsrc_treehouse', 'rsrc_udacity', 'rsrc_udemy']\n",
    "df = clean_df(df, '2016', resource_columns_one)\n",
    "df_two = clean_df(df_two, '2017', resource_columns_two)\n",
    "df_three = clean_df(df_three, '2018', resource_columns_three)\n",
    "print(\"DF 1 shape:\", df.shape)\n",
    "print(\"DF 2 shape:\", df_two.shape)\n",
    "print(\"DF 3 shape:\", df_three.shape)"
   ]
  },
  {
   "cell_type": "markdown",
   "metadata": {
    "colab_type": "text",
    "id": "uv5Kc_aAMq4a"
   },
   "source": [
    "### Merging the two surveys "
   ]
  },
  {
   "cell_type": "code",
   "execution_count": 9,
   "metadata": {
    "colab": {
     "base_uri": "https://localhost:8080/",
     "height": 402
    },
    "colab_type": "code",
    "executionInfo": {
     "elapsed": 288,
     "status": "ok",
     "timestamp": 1578438877934,
     "user": {
      "displayName": "Ben de Vera",
      "photoUrl": "https://lh3.googleusercontent.com/a-/AAuE7mA3DLNfhTHUfZFWeFjapCnOSkof6GfUffa-k9VA=s64",
      "userId": "02830271359296331790"
     },
     "user_tz": 420
    },
    "id": "dhbVk6CKKDqY",
    "outputId": "39920d63-bff5-42ff-d8d1-a2941829f6da"
   },
   "outputs": [
    {
     "name": "stdout",
     "output_type": "stream",
     "text": [
      "(18157, 29)\n"
     ]
    },
    {
     "data": {
      "text/html": [
       "<div>\n",
       "<style scoped>\n",
       "    .dataframe tbody tr th:only-of-type {\n",
       "        vertical-align: middle;\n",
       "    }\n",
       "\n",
       "    .dataframe tbody tr th {\n",
       "        vertical-align: top;\n",
       "    }\n",
       "\n",
       "    .dataframe thead th {\n",
       "        text-align: right;\n",
       "    }\n",
       "</style>\n",
       "<table border=\"1\" class=\"dataframe\">\n",
       "  <thead>\n",
       "    <tr style=\"text-align: right;\">\n",
       "      <th></th>\n",
       "      <th>Age</th>\n",
       "      <th>AttendedBootcamp</th>\n",
       "      <th>EmploymentField</th>\n",
       "      <th>EmploymentStatus</th>\n",
       "      <th>Gender</th>\n",
       "      <th>Income</th>\n",
       "      <th>IsSoftwareDev</th>\n",
       "      <th>MoneyForLearning</th>\n",
       "      <th>MonthsProgramming</th>\n",
       "      <th>SchoolDegree</th>\n",
       "      <th>...</th>\n",
       "      <th>ResourceKhanAcademy</th>\n",
       "      <th>ResourceLynda</th>\n",
       "      <th>ResourceMDN</th>\n",
       "      <th>ResourcePluralSight</th>\n",
       "      <th>ResourceStackOverflow</th>\n",
       "      <th>ResourceTreehouse</th>\n",
       "      <th>ResourceUdacity</th>\n",
       "      <th>ResourceUdemy</th>\n",
       "      <th>year</th>\n",
       "      <th>HasBSCSDegree</th>\n",
       "    </tr>\n",
       "  </thead>\n",
       "  <tbody>\n",
       "    <tr>\n",
       "      <th>0</th>\n",
       "      <td>28.0</td>\n",
       "      <td>0.0</td>\n",
       "      <td>office and administrative support</td>\n",
       "      <td>Employed for wages</td>\n",
       "      <td>male</td>\n",
       "      <td>32000.0</td>\n",
       "      <td>0.0</td>\n",
       "      <td>0.0</td>\n",
       "      <td>1.0</td>\n",
       "      <td>some college credit, no degree</td>\n",
       "      <td>...</td>\n",
       "      <td>NaN</td>\n",
       "      <td>NaN</td>\n",
       "      <td>NaN</td>\n",
       "      <td>NaN</td>\n",
       "      <td>NaN</td>\n",
       "      <td>NaN</td>\n",
       "      <td>NaN</td>\n",
       "      <td>NaN</td>\n",
       "      <td>2016</td>\n",
       "      <td>0</td>\n",
       "    </tr>\n",
       "    <tr>\n",
       "      <th>1</th>\n",
       "      <td>22.0</td>\n",
       "      <td>0.0</td>\n",
       "      <td>food and beverage</td>\n",
       "      <td>Employed for wages</td>\n",
       "      <td>male</td>\n",
       "      <td>15000.0</td>\n",
       "      <td>0.0</td>\n",
       "      <td>20.0</td>\n",
       "      <td>2.0</td>\n",
       "      <td>some college credit, no degree</td>\n",
       "      <td>...</td>\n",
       "      <td>NaN</td>\n",
       "      <td>NaN</td>\n",
       "      <td>NaN</td>\n",
       "      <td>NaN</td>\n",
       "      <td>NaN</td>\n",
       "      <td>NaN</td>\n",
       "      <td>NaN</td>\n",
       "      <td>1.0</td>\n",
       "      <td>2016</td>\n",
       "      <td>0</td>\n",
       "    </tr>\n",
       "    <tr>\n",
       "      <th>2</th>\n",
       "      <td>19.0</td>\n",
       "      <td>0.0</td>\n",
       "      <td>finance</td>\n",
       "      <td>Employed for wages</td>\n",
       "      <td>male</td>\n",
       "      <td>48000.0</td>\n",
       "      <td>0.0</td>\n",
       "      <td>50.0</td>\n",
       "      <td>24.0</td>\n",
       "      <td>high school diploma or equivalent (GED)</td>\n",
       "      <td>...</td>\n",
       "      <td>1.0</td>\n",
       "      <td>NaN</td>\n",
       "      <td>NaN</td>\n",
       "      <td>NaN</td>\n",
       "      <td>NaN</td>\n",
       "      <td>NaN</td>\n",
       "      <td>NaN</td>\n",
       "      <td>NaN</td>\n",
       "      <td>2016</td>\n",
       "      <td>0</td>\n",
       "    </tr>\n",
       "    <tr>\n",
       "      <th>3</th>\n",
       "      <td>26.0</td>\n",
       "      <td>0.0</td>\n",
       "      <td>arts, entertainment, sports, or media</td>\n",
       "      <td>Employed for wages</td>\n",
       "      <td>female</td>\n",
       "      <td>43000.0</td>\n",
       "      <td>0.0</td>\n",
       "      <td>100.0</td>\n",
       "      <td>3.0</td>\n",
       "      <td>bachelor's degree</td>\n",
       "      <td>...</td>\n",
       "      <td>1.0</td>\n",
       "      <td>NaN</td>\n",
       "      <td>NaN</td>\n",
       "      <td>NaN</td>\n",
       "      <td>NaN</td>\n",
       "      <td>NaN</td>\n",
       "      <td>NaN</td>\n",
       "      <td>NaN</td>\n",
       "      <td>2016</td>\n",
       "      <td>0</td>\n",
       "    </tr>\n",
       "    <tr>\n",
       "      <th>4</th>\n",
       "      <td>20.0</td>\n",
       "      <td>0.0</td>\n",
       "      <td>education</td>\n",
       "      <td>Employed for wages</td>\n",
       "      <td>female</td>\n",
       "      <td>6000.0</td>\n",
       "      <td>0.0</td>\n",
       "      <td>1300.0</td>\n",
       "      <td>48.0</td>\n",
       "      <td>some college credit, no degree</td>\n",
       "      <td>...</td>\n",
       "      <td>NaN</td>\n",
       "      <td>NaN</td>\n",
       "      <td>NaN</td>\n",
       "      <td>NaN</td>\n",
       "      <td>NaN</td>\n",
       "      <td>NaN</td>\n",
       "      <td>NaN</td>\n",
       "      <td>NaN</td>\n",
       "      <td>2016</td>\n",
       "      <td>0</td>\n",
       "    </tr>\n",
       "  </tbody>\n",
       "</table>\n",
       "<p>5 rows × 29 columns</p>\n",
       "</div>"
      ],
      "text/plain": [
       "    Age  AttendedBootcamp                        EmploymentField  \\\n",
       "0  28.0               0.0      office and administrative support   \n",
       "1  22.0               0.0                      food and beverage   \n",
       "2  19.0               0.0                                finance   \n",
       "3  26.0               0.0  arts, entertainment, sports, or media   \n",
       "4  20.0               0.0                              education   \n",
       "\n",
       "     EmploymentStatus  Gender   Income  IsSoftwareDev  MoneyForLearning  \\\n",
       "0  Employed for wages    male  32000.0            0.0               0.0   \n",
       "1  Employed for wages    male  15000.0            0.0              20.0   \n",
       "2  Employed for wages    male  48000.0            0.0              50.0   \n",
       "3  Employed for wages  female  43000.0            0.0             100.0   \n",
       "4  Employed for wages  female   6000.0            0.0            1300.0   \n",
       "\n",
       "   MonthsProgramming                             SchoolDegree      ...        \\\n",
       "0                1.0           some college credit, no degree      ...         \n",
       "1                2.0           some college credit, no degree      ...         \n",
       "2               24.0  high school diploma or equivalent (GED)      ...         \n",
       "3                3.0                        bachelor's degree      ...         \n",
       "4               48.0           some college credit, no degree      ...         \n",
       "\n",
       "  ResourceKhanAcademy  ResourceLynda  ResourceMDN  ResourcePluralSight  \\\n",
       "0                 NaN            NaN          NaN                  NaN   \n",
       "1                 NaN            NaN          NaN                  NaN   \n",
       "2                 1.0            NaN          NaN                  NaN   \n",
       "3                 1.0            NaN          NaN                  NaN   \n",
       "4                 NaN            NaN          NaN                  NaN   \n",
       "\n",
       "   ResourceStackOverflow  ResourceTreehouse  ResourceUdacity  ResourceUdemy  \\\n",
       "0                    NaN                NaN              NaN            NaN   \n",
       "1                    NaN                NaN              NaN            1.0   \n",
       "2                    NaN                NaN              NaN            NaN   \n",
       "3                    NaN                NaN              NaN            NaN   \n",
       "4                    NaN                NaN              NaN            NaN   \n",
       "\n",
       "   year  HasBSCSDegree  \n",
       "0  2016              0  \n",
       "1  2016              0  \n",
       "2  2016              0  \n",
       "3  2016              0  \n",
       "4  2016              0  \n",
       "\n",
       "[5 rows x 29 columns]"
      ]
     },
     "execution_count": 9,
     "metadata": {},
     "output_type": "execute_result"
    }
   ],
   "source": [
    "# merging the 2 subsets of surveys together\n",
    "merged = pd.concat([df, df_two, df_three])\n",
    "print(merged.shape)\n",
    "merged.head(5)"
   ]
  },
  {
   "cell_type": "code",
   "execution_count": 10,
   "metadata": {
    "colab": {
     "base_uri": "https://localhost:8080/",
     "height": 307
    },
    "colab_type": "code",
    "executionInfo": {
     "elapsed": 263,
     "status": "ok",
     "timestamp": 1578438883035,
     "user": {
      "displayName": "Ben de Vera",
      "photoUrl": "https://lh3.googleusercontent.com/a-/AAuE7mA3DLNfhTHUfZFWeFjapCnOSkof6GfUffa-k9VA=s64",
      "userId": "02830271359296331790"
     },
     "user_tz": 420
    },
    "id": "6FFa7_nP80jE",
    "outputId": "305f2518-1c03-4c83-aa18-44d7d9968b48"
   },
   "outputs": [
    {
     "data": {
      "text/html": [
       "<div>\n",
       "<style scoped>\n",
       "    .dataframe tbody tr th:only-of-type {\n",
       "        vertical-align: middle;\n",
       "    }\n",
       "\n",
       "    .dataframe tbody tr th {\n",
       "        vertical-align: top;\n",
       "    }\n",
       "\n",
       "    .dataframe thead th {\n",
       "        text-align: right;\n",
       "    }\n",
       "</style>\n",
       "<table border=\"1\" class=\"dataframe\">\n",
       "  <thead>\n",
       "    <tr style=\"text-align: right;\">\n",
       "      <th></th>\n",
       "      <th>Age</th>\n",
       "      <th>AttendedBootcamp</th>\n",
       "      <th>Income</th>\n",
       "      <th>IsSoftwareDev</th>\n",
       "      <th>MoneyForLearning</th>\n",
       "      <th>MonthsProgramming</th>\n",
       "      <th>StudentDebtOwe</th>\n",
       "      <th>ResourceCodecademy</th>\n",
       "      <th>ResourceCodeWars</th>\n",
       "      <th>ResourceCoursera</th>\n",
       "      <th>...</th>\n",
       "      <th>ResourceHackerRank</th>\n",
       "      <th>ResourceKhanAcademy</th>\n",
       "      <th>ResourceLynda</th>\n",
       "      <th>ResourceMDN</th>\n",
       "      <th>ResourcePluralSight</th>\n",
       "      <th>ResourceStackOverflow</th>\n",
       "      <th>ResourceTreehouse</th>\n",
       "      <th>ResourceUdacity</th>\n",
       "      <th>ResourceUdemy</th>\n",
       "      <th>HasBSCSDegree</th>\n",
       "    </tr>\n",
       "  </thead>\n",
       "  <tbody>\n",
       "    <tr>\n",
       "      <th>count</th>\n",
       "      <td>18076.000000</td>\n",
       "      <td>18157.000000</td>\n",
       "      <td>11891.000000</td>\n",
       "      <td>18157.000000</td>\n",
       "      <td>18157.000000</td>\n",
       "      <td>18157.000000</td>\n",
       "      <td>7.632000e+03</td>\n",
       "      <td>18157.000000</td>\n",
       "      <td>18157.000000</td>\n",
       "      <td>18157.000000</td>\n",
       "      <td>...</td>\n",
       "      <td>18157.000000</td>\n",
       "      <td>18157.000000</td>\n",
       "      <td>18157.000000</td>\n",
       "      <td>18157.000000</td>\n",
       "      <td>18157.000000</td>\n",
       "      <td>18157.000000</td>\n",
       "      <td>18157.000000</td>\n",
       "      <td>18157.000000</td>\n",
       "      <td>18157.000000</td>\n",
       "      <td>18157.000000</td>\n",
       "    </tr>\n",
       "    <tr>\n",
       "      <th>mean</th>\n",
       "      <td>31.261673</td>\n",
       "      <td>0.087900</td>\n",
       "      <td>48509.599445</td>\n",
       "      <td>0.156248</td>\n",
       "      <td>1299.856254</td>\n",
       "      <td>18.764499</td>\n",
       "      <td>5.577825e+04</td>\n",
       "      <td>0.558517</td>\n",
       "      <td>0.101669</td>\n",
       "      <td>0.191662</td>\n",
       "      <td>...</td>\n",
       "      <td>0.053368</td>\n",
       "      <td>0.239247</td>\n",
       "      <td>0.110205</td>\n",
       "      <td>0.206367</td>\n",
       "      <td>0.143251</td>\n",
       "      <td>0.351159</td>\n",
       "      <td>0.102275</td>\n",
       "      <td>0.174093</td>\n",
       "      <td>0.312662</td>\n",
       "      <td>0.035303</td>\n",
       "    </tr>\n",
       "    <tr>\n",
       "      <th>std</th>\n",
       "      <td>10.027918</td>\n",
       "      <td>0.283157</td>\n",
       "      <td>44535.419099</td>\n",
       "      <td>0.363101</td>\n",
       "      <td>5334.728726</td>\n",
       "      <td>46.059737</td>\n",
       "      <td>1.233136e+06</td>\n",
       "      <td>0.496578</td>\n",
       "      <td>0.302221</td>\n",
       "      <td>0.393619</td>\n",
       "      <td>...</td>\n",
       "      <td>0.224772</td>\n",
       "      <td>0.426635</td>\n",
       "      <td>0.313154</td>\n",
       "      <td>0.404708</td>\n",
       "      <td>0.350338</td>\n",
       "      <td>0.477346</td>\n",
       "      <td>0.303017</td>\n",
       "      <td>0.379200</td>\n",
       "      <td>0.463591</td>\n",
       "      <td>0.184550</td>\n",
       "    </tr>\n",
       "    <tr>\n",
       "      <th>min</th>\n",
       "      <td>0.000000</td>\n",
       "      <td>0.000000</td>\n",
       "      <td>0.000000</td>\n",
       "      <td>0.000000</td>\n",
       "      <td>0.000000</td>\n",
       "      <td>0.000000</td>\n",
       "      <td>0.000000e+00</td>\n",
       "      <td>0.000000</td>\n",
       "      <td>0.000000</td>\n",
       "      <td>0.000000</td>\n",
       "      <td>...</td>\n",
       "      <td>0.000000</td>\n",
       "      <td>0.000000</td>\n",
       "      <td>0.000000</td>\n",
       "      <td>0.000000</td>\n",
       "      <td>0.000000</td>\n",
       "      <td>0.000000</td>\n",
       "      <td>0.000000</td>\n",
       "      <td>0.000000</td>\n",
       "      <td>0.000000</td>\n",
       "      <td>0.000000</td>\n",
       "    </tr>\n",
       "    <tr>\n",
       "      <th>25%</th>\n",
       "      <td>24.000000</td>\n",
       "      <td>0.000000</td>\n",
       "      <td>25000.000000</td>\n",
       "      <td>0.000000</td>\n",
       "      <td>0.000000</td>\n",
       "      <td>2.000000</td>\n",
       "      <td>1.100000e+04</td>\n",
       "      <td>0.000000</td>\n",
       "      <td>0.000000</td>\n",
       "      <td>0.000000</td>\n",
       "      <td>...</td>\n",
       "      <td>0.000000</td>\n",
       "      <td>0.000000</td>\n",
       "      <td>0.000000</td>\n",
       "      <td>0.000000</td>\n",
       "      <td>0.000000</td>\n",
       "      <td>0.000000</td>\n",
       "      <td>0.000000</td>\n",
       "      <td>0.000000</td>\n",
       "      <td>0.000000</td>\n",
       "      <td>0.000000</td>\n",
       "    </tr>\n",
       "    <tr>\n",
       "      <th>50%</th>\n",
       "      <td>29.000000</td>\n",
       "      <td>0.000000</td>\n",
       "      <td>40000.000000</td>\n",
       "      <td>0.000000</td>\n",
       "      <td>30.000000</td>\n",
       "      <td>6.000000</td>\n",
       "      <td>2.500000e+04</td>\n",
       "      <td>1.000000</td>\n",
       "      <td>0.000000</td>\n",
       "      <td>0.000000</td>\n",
       "      <td>...</td>\n",
       "      <td>0.000000</td>\n",
       "      <td>0.000000</td>\n",
       "      <td>0.000000</td>\n",
       "      <td>0.000000</td>\n",
       "      <td>0.000000</td>\n",
       "      <td>0.000000</td>\n",
       "      <td>0.000000</td>\n",
       "      <td>0.000000</td>\n",
       "      <td>0.000000</td>\n",
       "      <td>0.000000</td>\n",
       "    </tr>\n",
       "    <tr>\n",
       "      <th>75%</th>\n",
       "      <td>36.000000</td>\n",
       "      <td>0.000000</td>\n",
       "      <td>60000.000000</td>\n",
       "      <td>0.000000</td>\n",
       "      <td>300.000000</td>\n",
       "      <td>18.000000</td>\n",
       "      <td>5.000000e+04</td>\n",
       "      <td>1.000000</td>\n",
       "      <td>0.000000</td>\n",
       "      <td>0.000000</td>\n",
       "      <td>...</td>\n",
       "      <td>0.000000</td>\n",
       "      <td>0.000000</td>\n",
       "      <td>0.000000</td>\n",
       "      <td>0.000000</td>\n",
       "      <td>0.000000</td>\n",
       "      <td>1.000000</td>\n",
       "      <td>0.000000</td>\n",
       "      <td>0.000000</td>\n",
       "      <td>1.000000</td>\n",
       "      <td>0.000000</td>\n",
       "    </tr>\n",
       "    <tr>\n",
       "      <th>max</th>\n",
       "      <td>80.000000</td>\n",
       "      <td>1.000000</td>\n",
       "      <td>1000000.000000</td>\n",
       "      <td>1.000000</td>\n",
       "      <td>200000.000000</td>\n",
       "      <td>744.000000</td>\n",
       "      <td>1.000000e+08</td>\n",
       "      <td>1.000000</td>\n",
       "      <td>1.000000</td>\n",
       "      <td>1.000000</td>\n",
       "      <td>...</td>\n",
       "      <td>1.000000</td>\n",
       "      <td>1.000000</td>\n",
       "      <td>1.000000</td>\n",
       "      <td>1.000000</td>\n",
       "      <td>1.000000</td>\n",
       "      <td>1.000000</td>\n",
       "      <td>1.000000</td>\n",
       "      <td>1.000000</td>\n",
       "      <td>1.000000</td>\n",
       "      <td>1.000000</td>\n",
       "    </tr>\n",
       "  </tbody>\n",
       "</table>\n",
       "<p>8 rows × 23 columns</p>\n",
       "</div>"
      ],
      "text/plain": [
       "                Age  AttendedBootcamp          Income  IsSoftwareDev  \\\n",
       "count  18076.000000      18157.000000    11891.000000   18157.000000   \n",
       "mean      31.261673          0.087900    48509.599445       0.156248   \n",
       "std       10.027918          0.283157    44535.419099       0.363101   \n",
       "min        0.000000          0.000000        0.000000       0.000000   \n",
       "25%       24.000000          0.000000    25000.000000       0.000000   \n",
       "50%       29.000000          0.000000    40000.000000       0.000000   \n",
       "75%       36.000000          0.000000    60000.000000       0.000000   \n",
       "max       80.000000          1.000000  1000000.000000       1.000000   \n",
       "\n",
       "       MoneyForLearning  MonthsProgramming  StudentDebtOwe  \\\n",
       "count      18157.000000       18157.000000    7.632000e+03   \n",
       "mean        1299.856254          18.764499    5.577825e+04   \n",
       "std         5334.728726          46.059737    1.233136e+06   \n",
       "min            0.000000           0.000000    0.000000e+00   \n",
       "25%            0.000000           2.000000    1.100000e+04   \n",
       "50%           30.000000           6.000000    2.500000e+04   \n",
       "75%          300.000000          18.000000    5.000000e+04   \n",
       "max       200000.000000         744.000000    1.000000e+08   \n",
       "\n",
       "       ResourceCodecademy  ResourceCodeWars  ResourceCoursera      ...        \\\n",
       "count        18157.000000      18157.000000      18157.000000      ...         \n",
       "mean             0.558517          0.101669          0.191662      ...         \n",
       "std              0.496578          0.302221          0.393619      ...         \n",
       "min              0.000000          0.000000          0.000000      ...         \n",
       "25%              0.000000          0.000000          0.000000      ...         \n",
       "50%              1.000000          0.000000          0.000000      ...         \n",
       "75%              1.000000          0.000000          0.000000      ...         \n",
       "max              1.000000          1.000000          1.000000      ...         \n",
       "\n",
       "       ResourceHackerRank  ResourceKhanAcademy  ResourceLynda   ResourceMDN  \\\n",
       "count        18157.000000         18157.000000   18157.000000  18157.000000   \n",
       "mean             0.053368             0.239247       0.110205      0.206367   \n",
       "std              0.224772             0.426635       0.313154      0.404708   \n",
       "min              0.000000             0.000000       0.000000      0.000000   \n",
       "25%              0.000000             0.000000       0.000000      0.000000   \n",
       "50%              0.000000             0.000000       0.000000      0.000000   \n",
       "75%              0.000000             0.000000       0.000000      0.000000   \n",
       "max              1.000000             1.000000       1.000000      1.000000   \n",
       "\n",
       "       ResourcePluralSight  ResourceStackOverflow  ResourceTreehouse  \\\n",
       "count         18157.000000           18157.000000       18157.000000   \n",
       "mean              0.143251               0.351159           0.102275   \n",
       "std               0.350338               0.477346           0.303017   \n",
       "min               0.000000               0.000000           0.000000   \n",
       "25%               0.000000               0.000000           0.000000   \n",
       "50%               0.000000               0.000000           0.000000   \n",
       "75%               0.000000               1.000000           0.000000   \n",
       "max               1.000000               1.000000           1.000000   \n",
       "\n",
       "       ResourceUdacity  ResourceUdemy  HasBSCSDegree  \n",
       "count     18157.000000   18157.000000   18157.000000  \n",
       "mean          0.174093       0.312662       0.035303  \n",
       "std           0.379200       0.463591       0.184550  \n",
       "min           0.000000       0.000000       0.000000  \n",
       "25%           0.000000       0.000000       0.000000  \n",
       "50%           0.000000       0.000000       0.000000  \n",
       "75%           0.000000       1.000000       0.000000  \n",
       "max           1.000000       1.000000       1.000000  \n",
       "\n",
       "[8 rows x 23 columns]"
      ]
     },
     "execution_count": 10,
     "metadata": {},
     "output_type": "execute_result"
    }
   ],
   "source": [
    "# filling resource columns with 0 where NaN\n",
    "for column in resource_columns_one:\n",
    "  merged[column].replace({np.NaN: 0}, inplace=True)\n",
    "merged.describe()"
   ]
  },
  {
   "cell_type": "markdown",
   "metadata": {
    "colab_type": "text",
    "id": "2qEGbdttMy2g"
   },
   "source": [
    "### Analysis Section 1: Bootcamp vs No Bootcamp\n"
   ]
  },
  {
   "cell_type": "code",
   "execution_count": 11,
   "metadata": {
    "colab": {
     "base_uri": "https://localhost:8080/",
     "height": 70
    },
    "colab_type": "code",
    "executionInfo": {
     "elapsed": 182,
     "status": "ok",
     "timestamp": 1578438923815,
     "user": {
      "displayName": "Ben de Vera",
      "photoUrl": "https://lh3.googleusercontent.com/a-/AAuE7mA3DLNfhTHUfZFWeFjapCnOSkof6GfUffa-k9VA=s64",
      "userId": "02830271359296331790"
     },
     "user_tz": 420
    },
    "id": "xo8ShPNHG7Xm",
    "outputId": "1e14d031-dd28-4d72-d988-35afdd524fc5"
   },
   "outputs": [
    {
     "name": "stdout",
     "output_type": "stream",
     "text": [
      "Bootcamp attendee submissions: 1596\n",
      "No bootcamp submissions: 16561\n",
      "Percent Attended Bootcamp: 8.79%\n"
     ]
    }
   ],
   "source": [
    "# splitting into two groups (bootcamp and no bootcamp)\n",
    "bootcamp = merged[merged['AttendedBootcamp'] == 1]\n",
    "no_bootcamp = merged[merged['AttendedBootcamp'] != 1]\n",
    "percent_bootcamp = str(round((bootcamp.shape[0]/merged.shape[0])*100, 2))+\"%\"\n",
    "print(\"Bootcamp attendee submissions:\", bootcamp.shape[0])\n",
    "print(\"No bootcamp submissions:\", no_bootcamp.shape[0])\n",
    "print(\"Percent Attended Bootcamp:\", percent_bootcamp)"
   ]
  },
  {
   "cell_type": "code",
   "execution_count": 12,
   "metadata": {
    "colab": {
     "base_uri": "https://localhost:8080/",
     "height": 176
    },
    "colab_type": "code",
    "executionInfo": {
     "elapsed": 209,
     "status": "ok",
     "timestamp": 1578439039134,
     "user": {
      "displayName": "Ben de Vera",
      "photoUrl": "https://lh3.googleusercontent.com/a-/AAuE7mA3DLNfhTHUfZFWeFjapCnOSkof6GfUffa-k9VA=s64",
      "userId": "02830271359296331790"
     },
     "user_tz": 420
    },
    "id": "a5UhYecCHJjk",
    "outputId": "0f839879-49fb-41e4-fa6c-26c3c4730b7c"
   },
   "outputs": [
    {
     "name": "stdout",
     "output_type": "stream",
     "text": [
      "Average Income\n",
      "Bootcamp: $47492.83\n",
      "No Bootcamp: $48595.77\n",
      "Difference: $-1102.94\n",
      "\n",
      "% with Software Dev Jobs\n",
      "Bootcamp: 41.98%\n",
      "No Bootcamp: 13.08%\n",
      "Difference: 28.89%\n"
     ]
    }
   ],
   "source": [
    "# Average income and % that have software dev jobs\n",
    "income_diff = round(bootcamp['Income'].mean()-no_bootcamp['Income'].mean(),2)\n",
    "print(\"Average Income\")\n",
    "print(\"Bootcamp:\", \"$\"+str(round(bootcamp['Income'].mean(), 2)))\n",
    "print(\"No Bootcamp:\", \"$\"+str(round(no_bootcamp['Income'].mean(), 2)))\n",
    "print(\"Difference:\", \"$\"+str(income_diff))\n",
    "print()\n",
    "dev_diff=bootcamp['IsSoftwareDev'].mean()-no_bootcamp['IsSoftwareDev'].mean()\n",
    "print(\"% with Software Dev Jobs\")\n",
    "print(\"Bootcamp:\", str(round(100*bootcamp['IsSoftwareDev'].mean(), 2))+\"%\")\n",
    "print(\"No Bootcamp:\", str(round(100*no_bootcamp['IsSoftwareDev'].mean(),2))+\"%\")\n",
    "print(\"Difference:\",str(round(100*dev_diff, 2))+\"%\")"
   ]
  },
  {
   "cell_type": "code",
   "execution_count": 31,
   "metadata": {
    "colab": {
     "base_uri": "https://localhost:8080/",
     "height": 281
    },
    "colab_type": "code",
    "executionInfo": {
     "elapsed": 617,
     "status": "ok",
     "timestamp": 1578439219178,
     "user": {
      "displayName": "Ben de Vera",
      "photoUrl": "https://lh3.googleusercontent.com/a-/AAuE7mA3DLNfhTHUfZFWeFjapCnOSkof6GfUffa-k9VA=s64",
      "userId": "02830271359296331790"
     },
     "user_tz": 420
    },
    "id": "HA_yejNbYQMG",
    "outputId": "50340f6c-ac20-4f48-e384-2e46dd1945bb"
   },
   "outputs": [
    {
     "data": {
      "image/png": "[encoded data removed]",
      "text/plain": [
       "<Figure size 432x288 with 2 Axes>"
      ]
     },
     "metadata": {},
     "output_type": "display_data"
    }
   ],
   "source": [
    "# initializing fig and ax\n",
    "fig, ax = plt.subplots(1, 2)\n",
    "\n",
    "# setting stylesheet\n",
    "plt.style.use('dark_background')\n",
    "\n",
    "# setting facecolors\n",
    "fig.patch.set_facecolor('black')\n",
    "ax[0].patch.set_facecolor('black')\n",
    "ax[1].patch.set_facecolor('black')\n",
    "\n",
    "#plot data\n",
    "plot_one = [bootcamp['Income'].mean(), no_bootcamp['Income'].mean()]\n",
    "plot_two=[bootcamp['IsSoftwareDev'].mean(), no_bootcamp['IsSoftwareDev'].mean()]\n",
    "# plotting data\n",
    "tick_labels = [\"$\"+str(i)+\"K\" for i in range(0, 60, 10)]\n",
    "ax[0].bar([\"Bootcamp\", \"No Bootcamp\"], plot_one, color=[\"#46409c\", \"#52ECCE\"])\n",
    "ax[0].set_title(\"Average Income\")\n",
    "ax[0].set_yticklabels(tick_labels)\n",
    "tick_labels = [str(i)+\"%\" for i in range(0, 45, 5)]\n",
    "ax[1].bar([\"Bootcamp\", \"No Bootcamp\"], plot_two, color=[\"#46409c\", \"#52ECCE\"])\n",
    "ax[1].set_title(\"% Software Developers\")\n",
    "ax[1].set_yticklabels(tick_labels)\n",
    "\n",
    "# adding value labels to top of each bar\n",
    "rects = ax[0].patches\n",
    "l1=str(int(bootcamp['Income'].mean()))\n",
    "l2=str(int(no_bootcamp['Income'].mean()))\n",
    "labels = [\"$\"+l1[:2]+\",\"+l1[2:], \n",
    "          \"$\"+l2[:2]+\",\"+l2[:2]]\n",
    "for rect, label in zip(rects, labels):\n",
    "    height = rect.get_height()\n",
    "    ax[0].text(rect.get_x() + rect.get_width() / 2, height + 100, label,\n",
    "            ha='center', va='bottom')\n",
    "\n",
    "rects = ax[1].patches\n",
    "l1=str(round(100*bootcamp['IsSoftwareDev'].mean(), 2))+\"%\"\n",
    "l2=str(round(100*no_bootcamp['IsSoftwareDev'].mean(),2))+\"%\"\n",
    "labels = [l1, l2]\n",
    "for rect, label in zip(rects, labels):\n",
    "    height = rect.get_height()\n",
    "    ax[1].text(rect.get_x() + rect.get_width() / 2, height, label,\n",
    "            ha='center', va='bottom')\n",
    "    \n",
    "# hiding spines\n",
    "for i in range(2):\n",
    "  ax[i].spines['right'].set_visible(False)\n",
    "  ax[i].spines['top'].set_visible(False)\n",
    "  ax[i].spines['bottom'].set_visible(False)\n",
    "  ax[i].spines['left'].set_visible(False)\n",
    "  ax[i].tick_params(bottom=False, left=True)\n",
    "\n",
    "# adding some space to the subplots then showing\n",
    "fig.subplots_adjust(wspace=.5)\n",
    "plt.show()\n",
    "\n",
    "# for saving\n",
    "fig.savefig('figure1.png', facecolor=fig.get_facecolor(), edgecolor='none')"
   ]
  },
  {
   "cell_type": "code",
   "execution_count": 14,
   "metadata": {
    "colab": {
     "base_uri": "https://localhost:8080/",
     "height": 52
    },
    "colab_type": "code",
    "executionInfo": {
     "elapsed": 236,
     "status": "ok",
     "timestamp": 1578439227631,
     "user": {
      "displayName": "Ben de Vera",
      "photoUrl": "https://lh3.googleusercontent.com/a-/AAuE7mA3DLNfhTHUfZFWeFjapCnOSkof6GfUffa-k9VA=s64",
      "userId": "02830271359296331790"
     },
     "user_tz": 420
    },
    "id": "67nfvdOlOPqz",
    "outputId": "664bceb8-cf29-45f0-9ccc-079e6657c028"
   },
   "outputs": [
    {
     "name": "stdout",
     "output_type": "stream",
     "text": [
      "Bootcamp: 53494.619389587075\n",
      "No Bootcamp: 66619.29619710766\n"
     ]
    }
   ],
   "source": [
    "# Average income of those that are software devs\n",
    "dev_bootcamp = bootcamp[bootcamp['IsSoftwareDev'] == 1]\n",
    "dev_no_bootcamp = no_bootcamp[no_bootcamp['IsSoftwareDev'] == 1]\n",
    "print(\"Bootcamp:\", dev_bootcamp['Income'].mean())\n",
    "print(\"No Bootcamp:\", dev_no_bootcamp['Income'].mean())"
   ]
  },
  {
   "cell_type": "code",
   "execution_count": 15,
   "metadata": {
    "colab": {
     "base_uri": "https://localhost:8080/",
     "height": 52
    },
    "colab_type": "code",
    "executionInfo": {
     "elapsed": 199,
     "status": "ok",
     "timestamp": 1578439360845,
     "user": {
      "displayName": "Ben de Vera",
      "photoUrl": "https://lh3.googleusercontent.com/a-/AAuE7mA3DLNfhTHUfZFWeFjapCnOSkof6GfUffa-k9VA=s64",
      "userId": "02830271359296331790"
     },
     "user_tz": 420
    },
    "id": "lcuXWrp4Oq_B",
    "outputId": "cefb654f-fa17-492e-bba0-c634bc62ff77"
   },
   "outputs": [
    {
     "name": "stdout",
     "output_type": "stream",
     "text": [
      "0.20950622981079833\n"
     ]
    },
    {
     "data": {
      "text/plain": [
       "0.15736040609137056"
      ]
     },
     "execution_count": 15,
     "metadata": {},
     "output_type": "execute_result"
    }
   ],
   "source": [
    "# % of software devs that didn't go to bootcamp that have a degree in CS\n",
    "CS=dev_no_bootcamp['SchoolMajor'] == 'Computer Science'\n",
    "dev_no_bootcamp_CS = dev_no_bootcamp[CS]\n",
    "dev_no_bootcamp_no_CS = dev_no_bootcamp[~CS]\n",
    "print(dev_no_bootcamp_CS.shape[0] / dev_no_bootcamp.shape[0])\n",
    "# % of software devs that didn't go to bootcamp that have a BS degree in CS\n",
    "BS_CS = dev_no_bootcamp['HasBSCSDegree'] == 1\n",
    "dev_no_bootcamp[BS_CS].shape[0]/dev_no_bootcamp.shape[0]"
   ]
  },
  {
   "cell_type": "code",
   "execution_count": 16,
   "metadata": {
    "colab": {
     "base_uri": "https://localhost:8080/",
     "height": 212
    },
    "colab_type": "code",
    "executionInfo": {
     "elapsed": 226,
     "status": "ok",
     "timestamp": 1578439373798,
     "user": {
      "displayName": "Ben de Vera",
      "photoUrl": "https://lh3.googleusercontent.com/a-/AAuE7mA3DLNfhTHUfZFWeFjapCnOSkof6GfUffa-k9VA=s64",
      "userId": "02830271359296331790"
     },
     "user_tz": 420
    },
    "id": "wtUf67Q0uYQs",
    "outputId": "d9bb6e11-2a2f-497b-9eaf-04b4d55b37b1"
   },
   "outputs": [
    {
     "data": {
      "text/plain": [
       "Information Technology              54\n",
       "Business Administration             46\n",
       "Computer and Information Studies    45\n",
       "Information Systems                 43\n",
       "Electrical Engineering              42\n",
       "Computer Programming                41\n",
       "Graphic Design                      40\n",
       "Mathematics                         37\n",
       "Management Information Systems      32\n",
       "Economics                           28\n",
       "Name: SchoolMajor, dtype: int64"
      ]
     },
     "execution_count": 16,
     "metadata": {},
     "output_type": "execute_result"
    }
   ],
   "source": [
    "# what degrees do these people have then?\n",
    "dev_no_bootcamp_no_CS['SchoolMajor'].value_counts().head(10)"
   ]
  },
  {
   "cell_type": "code",
   "execution_count": 17,
   "metadata": {
    "colab": {
     "base_uri": "https://localhost:8080/",
     "height": 347
    },
    "colab_type": "code",
    "executionInfo": {
     "elapsed": 196,
     "status": "ok",
     "timestamp": 1578439403593,
     "user": {
      "displayName": "Ben de Vera",
      "photoUrl": "https://lh3.googleusercontent.com/a-/AAuE7mA3DLNfhTHUfZFWeFjapCnOSkof6GfUffa-k9VA=s64",
      "userId": "02830271359296331790"
     },
     "user_tz": 420
    },
    "id": "r9I88ol5upww",
    "outputId": "ceea7107-b7a9-4c89-cfea-faecf10e6db6"
   },
   "outputs": [
    {
     "data": {
      "text/html": [
       "<div>\n",
       "<style scoped>\n",
       "    .dataframe tbody tr th:only-of-type {\n",
       "        vertical-align: middle;\n",
       "    }\n",
       "\n",
       "    .dataframe tbody tr th {\n",
       "        vertical-align: top;\n",
       "    }\n",
       "\n",
       "    .dataframe thead th {\n",
       "        text-align: right;\n",
       "    }\n",
       "</style>\n",
       "<table border=\"1\" class=\"dataframe\">\n",
       "  <thead>\n",
       "    <tr style=\"text-align: right;\">\n",
       "      <th></th>\n",
       "      <th>SchoolMajor</th>\n",
       "      <th>Income</th>\n",
       "    </tr>\n",
       "  </thead>\n",
       "  <tbody>\n",
       "    <tr>\n",
       "      <th>13391</th>\n",
       "      <td>Management Information Systems</td>\n",
       "      <td>1000000.0</td>\n",
       "    </tr>\n",
       "    <tr>\n",
       "      <th>7770</th>\n",
       "      <td>NaN</td>\n",
       "      <td>500000.0</td>\n",
       "    </tr>\n",
       "    <tr>\n",
       "      <th>16457</th>\n",
       "      <td>Electrical and Electronics Engineering</td>\n",
       "      <td>350000.0</td>\n",
       "    </tr>\n",
       "    <tr>\n",
       "      <th>5612</th>\n",
       "      <td>Advertising</td>\n",
       "      <td>300000.0</td>\n",
       "    </tr>\n",
       "    <tr>\n",
       "      <th>24126</th>\n",
       "      <td>Chinese Language and Literature</td>\n",
       "      <td>250000.0</td>\n",
       "    </tr>\n",
       "    <tr>\n",
       "      <th>7045</th>\n",
       "      <td>Architecture</td>\n",
       "      <td>240000.0</td>\n",
       "    </tr>\n",
       "    <tr>\n",
       "      <th>20441</th>\n",
       "      <td>Business Administration</td>\n",
       "      <td>226000.0</td>\n",
       "    </tr>\n",
       "    <tr>\n",
       "      <th>13593</th>\n",
       "      <td>Computational and Applied Mathematics</td>\n",
       "      <td>220000.0</td>\n",
       "    </tr>\n",
       "    <tr>\n",
       "      <th>1473</th>\n",
       "      <td>NaN</td>\n",
       "      <td>205000.0</td>\n",
       "    </tr>\n",
       "    <tr>\n",
       "      <th>15074</th>\n",
       "      <td>Mathematics</td>\n",
       "      <td>200000.0</td>\n",
       "    </tr>\n",
       "  </tbody>\n",
       "</table>\n",
       "</div>"
      ],
      "text/plain": [
       "                                  SchoolMajor     Income\n",
       "13391          Management Information Systems  1000000.0\n",
       "7770                                      NaN   500000.0\n",
       "16457  Electrical and Electronics Engineering   350000.0\n",
       "5612                              Advertising   300000.0\n",
       "24126         Chinese Language and Literature   250000.0\n",
       "7045                             Architecture   240000.0\n",
       "20441                 Business Administration   226000.0\n",
       "13593   Computational and Applied Mathematics   220000.0\n",
       "1473                                      NaN   205000.0\n",
       "15074                             Mathematics   200000.0"
      ]
     },
     "execution_count": 17,
     "metadata": {},
     "output_type": "execute_result"
    }
   ],
   "source": [
    "# what are the degrees of those with the highest paying jobs?\n",
    "temp_data = dev_no_bootcamp_no_CS.sort_values(by=\"Income\", ascending=False)\n",
    "temp_data.head(10)[['SchoolMajor', 'Income']]"
   ]
  },
  {
   "cell_type": "markdown",
   "metadata": {
    "colab_type": "text",
    "id": "0-X36TNHdrK3"
   },
   "source": [
    "### Checking correlation coefficients to see if they give an insight to trends. "
   ]
  },
  {
   "cell_type": "code",
   "execution_count": 18,
   "metadata": {
    "colab": {
     "base_uri": "https://localhost:8080/",
     "height": 443
    },
    "colab_type": "code",
    "executionInfo": {
     "elapsed": 183,
     "status": "ok",
     "timestamp": 1578439407626,
     "user": {
      "displayName": "Ben de Vera",
      "photoUrl": "https://lh3.googleusercontent.com/a-/AAuE7mA3DLNfhTHUfZFWeFjapCnOSkof6GfUffa-k9VA=s64",
      "userId": "02830271359296331790"
     },
     "user_tz": 420
    },
    "id": "BLxeY78qyHwf",
    "outputId": "0f2fc3a4-1ceb-4628-a145-d7448fb8d242"
   },
   "outputs": [
    {
     "data": {
      "text/plain": [
       "Age                      0.034357\n",
       "AttendedBootcamp         0.225332\n",
       "Income                   0.171503\n",
       "IsSoftwareDev            1.000000\n",
       "MoneyForLearning         0.171669\n",
       "MonthsProgramming        0.360656\n",
       "StudentDebtOwe          -0.007211\n",
       "ResourceCodecademy      -0.008405\n",
       "ResourceCodeWars         0.084605\n",
       "ResourceCoursera         0.044416\n",
       "ResourceEdX             -0.009577\n",
       "ResourceEggHead          0.159732\n",
       "ResourceFCC             -0.165532\n",
       "ResourceHackerRank       0.059789\n",
       "ResourceKhanAcademy     -0.023019\n",
       "ResourceLynda            0.032622\n",
       "ResourceMDN              0.092030\n",
       "ResourcePluralSight      0.217181\n",
       "ResourceStackOverflow    0.114005\n",
       "ResourceTreehouse        0.049482\n",
       "ResourceUdacity          0.058443\n",
       "ResourceUdemy            0.036640\n",
       "HasBSCSDegree            0.201247\n",
       "Name: IsSoftwareDev, dtype: float64"
      ]
     },
     "execution_count": 18,
     "metadata": {},
     "output_type": "execute_result"
    }
   ],
   "source": [
    "# what are the trends of these column values with those that are devs\n",
    "merged.corr()['IsSoftwareDev']"
   ]
  },
  {
   "cell_type": "code",
   "execution_count": 19,
   "metadata": {
    "colab": {
     "base_uri": "https://localhost:8080/",
     "height": 34
    },
    "colab_type": "code",
    "executionInfo": {
     "elapsed": 194,
     "status": "ok",
     "timestamp": 1578439419827,
     "user": {
      "displayName": "Ben de Vera",
      "photoUrl": "https://lh3.googleusercontent.com/a-/AAuE7mA3DLNfhTHUfZFWeFjapCnOSkof6GfUffa-k9VA=s64",
      "userId": "02830271359296331790"
     },
     "user_tz": 420
    },
    "id": "XrqHEnnASdM9",
    "outputId": "a3e462c1-aff4-4979-8eef-7402ed83d47c"
   },
   "outputs": [
    {
     "data": {
      "text/plain": [
       "(2837, 29)"
      ]
     },
     "execution_count": 19,
     "metadata": {},
     "output_type": "execute_result"
    }
   ],
   "source": [
    "# creating dataframe with just software developers\n",
    "devs = merged[merged['IsSoftwareDev'] == 1]\n",
    "devs.shape"
   ]
  },
  {
   "cell_type": "code",
   "execution_count": 20,
   "metadata": {
    "colab": {
     "base_uri": "https://localhost:8080/",
     "height": 70
    },
    "colab_type": "code",
    "executionInfo": {
     "elapsed": 195,
     "status": "ok",
     "timestamp": 1578439421805,
     "user": {
      "displayName": "Ben de Vera",
      "photoUrl": "https://lh3.googleusercontent.com/a-/AAuE7mA3DLNfhTHUfZFWeFjapCnOSkof6GfUffa-k9VA=s64",
      "userId": "02830271359296331790"
     },
     "user_tz": 420
    },
    "id": "OkbGgqkLvnUd",
    "outputId": "b5741a9e-bff6-4fe6-d175-c712da9cd99e"
   },
   "outputs": [
    {
     "name": "stdout",
     "output_type": "stream",
     "text": [
      "% Software Devs that have BS CS Degree: 0.122\n",
      "% Software Devs that attended a bootcamp: 0.236\n",
      "Average income of all devs: 63603.44\n"
     ]
    }
   ],
   "source": [
    "# of ALL devs what percent:\n",
    "# has a BS CS degree? \n",
    "# attended bootcamp?\n",
    "# what are all devs average income?\n",
    "bs_cs_degree = round(devs['HasBSCSDegree'].mean(), 3)\n",
    "devs_bootcamp = round(devs['AttendedBootcamp'].mean(), 3)\n",
    "print(\"% Software Devs that have BS CS Degree:\", bs_cs_degree)\n",
    "print(\"% Software Devs that attended a bootcamp:\", devs_bootcamp)\n",
    "print(\"Average income of all devs:\", round(devs['Income'].mean(), 2))"
   ]
  },
  {
   "cell_type": "code",
   "execution_count": 21,
   "metadata": {
    "colab": {
     "base_uri": "https://localhost:8080/",
     "height": 443
    },
    "colab_type": "code",
    "executionInfo": {
     "elapsed": 199,
     "status": "ok",
     "timestamp": 1578439425243,
     "user": {
      "displayName": "Ben de Vera",
      "photoUrl": "https://lh3.googleusercontent.com/a-/AAuE7mA3DLNfhTHUfZFWeFjapCnOSkof6GfUffa-k9VA=s64",
      "userId": "02830271359296331790"
     },
     "user_tz": 420
    },
    "id": "QgATcn4PxL-X",
    "outputId": "ce79fa90-7965-4d61-ad5c-ab4ccf00ced5"
   },
   "outputs": [
    {
     "data": {
      "text/plain": [
       "Age                      0.302679\n",
       "AttendedBootcamp        -0.111851\n",
       "Income                   1.000000\n",
       "IsSoftwareDev                 NaN\n",
       "MoneyForLearning         0.015857\n",
       "MonthsProgramming        0.362368\n",
       "StudentDebtOwe           0.026137\n",
       "ResourceCodecademy      -0.174830\n",
       "ResourceCodeWars        -0.025413\n",
       "ResourceCoursera         0.017056\n",
       "ResourceEdX             -0.021454\n",
       "ResourceEggHead          0.013321\n",
       "ResourceFCC             -0.171914\n",
       "ResourceHackerRank      -0.042576\n",
       "ResourceKhanAcademy     -0.038440\n",
       "ResourceLynda           -0.018511\n",
       "ResourceMDN             -0.075614\n",
       "ResourcePluralSight     -0.022521\n",
       "ResourceStackOverflow   -0.069672\n",
       "ResourceTreehouse       -0.066870\n",
       "ResourceUdacity         -0.042881\n",
       "ResourceUdemy           -0.065789\n",
       "HasBSCSDegree            0.081992\n",
       "Name: Income, dtype: float64"
      ]
     },
     "execution_count": 21,
     "metadata": {},
     "output_type": "execute_result"
    }
   ],
   "source": [
    "# what are strong correlations between a devs income\n",
    "devs.corr()['Income']"
   ]
  },
  {
   "cell_type": "markdown",
   "metadata": {
    "colab_type": "text",
    "id": "1xaHdeWFPUVg"
   },
   "source": [
    "## Section 1 Takeaways\n",
    "\n",
    "### 1. Majority of survey responders did not attend a bootcamp (~10% of the dataset we are analyzing went to a bootcamp).\n",
    "\n",
    "### 2. Average income of those that attend a bootcamp and those that don't are very similar (could run t-test to see if statistically any difference can be considered randomness of data collection) BUT the liklihood of someone being a software dev almost triples if they reported attending a bootcamp. \n",
    "\n",
    "### 3. Average income of software devs that attended a bootcamp is on average ~13k less than software devs that didn't attend a bootcamp. \n",
    "\n",
    "### 4. About 80% of software devs that didn't attend a bootcamp didn't have a CS degree. That means that this set of software devs landed jobs without getting a CS degree OR attending a bootcamp. \n",
    "\n",
    "### 5. Months programming has the strongest correlation with being a software developer. \n"
   ]
  },
  {
   "cell_type": "markdown",
   "metadata": {
    "colab_type": "text",
    "id": "KU5N0fTDR7KB"
   },
   "source": [
    "## Section 2: Money/Time Spent (testing the more you do something the better you get)"
   ]
  },
  {
   "cell_type": "code",
   "execution_count": 22,
   "metadata": {
    "colab": {},
    "colab_type": "code",
    "id": "oBdnRLlYjP9p"
   },
   "outputs": [],
   "source": [
    "# filtering outliers to ensure graphic isn't skewed \n",
    "income = devs['Income'] < 400000\n",
    "months = devs['MonthsProgramming'] < 500\n",
    "subset = devs[income & months]"
   ]
  },
  {
   "cell_type": "code",
   "execution_count": 23,
   "metadata": {
    "colab": {
     "base_uri": "https://localhost:8080/",
     "height": 294
    },
    "colab_type": "code",
    "executionInfo": {
     "elapsed": 712,
     "status": "ok",
     "timestamp": 1578439493003,
     "user": {
      "displayName": "Ben de Vera",
      "photoUrl": "https://lh3.googleusercontent.com/a-/AAuE7mA3DLNfhTHUfZFWeFjapCnOSkof6GfUffa-k9VA=s64",
      "userId": "02830271359296331790"
     },
     "user_tz": 420
    },
    "id": "KoLREr6LSQyB",
    "outputId": "21e4a7f8-2507-484c-d92e-56917e8cdc29"
   },
   "outputs": [
    {
     "name": "stderr",
     "output_type": "stream",
     "text": [
      "/Users/bendevera/Library/Python/3.6/lib/python/site-packages/matplotlib/figure.py:459: UserWarning: matplotlib is currently using a non-GUI backend, so cannot show the figure\n",
      "  \"matplotlib is currently using a non-GUI backend, \"\n"
     ]
    },
    {
     "data": {
      "image/png": "[encoded data removed]",
      "text/plain": [
       "<Figure size 432x288 with 1 Axes>"
      ]
     },
     "metadata": {},
     "output_type": "display_data"
    }
   ],
   "source": [
    "# Income by MonthsProgramming\n",
    "fig, ax = plt.subplots()\n",
    "ax.scatter(x=subset['MonthsProgramming'], y=subset['Income'], color=\"#46409c\")\n",
    "\n",
    "ax.set_title(\"Income by Months Programming\")\n",
    "ax.set_ylabel(\"Income\")\n",
    "ax.set_xlabel(\"Months Programming\")\n",
    "\n",
    "ax.spines['right'].set_visible(False)\n",
    "ax.spines['top'].set_visible(False)\n",
    "ax.spines['bottom'].set_visible(True)\n",
    "ax.spines['left'].set_visible(True)\n",
    "ax.tick_params(bottom=False, left=False)\n",
    "\n",
    "tick_labels = [\"$\"+str(i)+\"K\" for i in range(-50, 400, 50)]\n",
    "ax.set_yticklabels(tick_labels)\n",
    "\n",
    "fig.show()\n",
    "\n",
    "# for saving\n",
    "fig.savefig('figure2.png', facecolor=fig.get_facecolor(), edgecolor='none')"
   ]
  },
  {
   "cell_type": "code",
   "execution_count": 24,
   "metadata": {
    "colab": {
     "base_uri": "https://localhost:8080/",
     "height": 294
    },
    "colab_type": "code",
    "executionInfo": {
     "elapsed": 618,
     "status": "ok",
     "timestamp": 1578439495148,
     "user": {
      "displayName": "Ben de Vera",
      "photoUrl": "https://lh3.googleusercontent.com/a-/AAuE7mA3DLNfhTHUfZFWeFjapCnOSkof6GfUffa-k9VA=s64",
      "userId": "02830271359296331790"
     },
     "user_tz": 420
    },
    "id": "O1_KFiTdSUp7",
    "outputId": "a0c123da-238a-445c-8c03-2195d1d43504"
   },
   "outputs": [
    {
     "name": "stderr",
     "output_type": "stream",
     "text": [
      "/Users/bendevera/Library/Python/3.6/lib/python/site-packages/matplotlib/figure.py:459: UserWarning: matplotlib is currently using a non-GUI backend, so cannot show the figure\n",
      "  \"matplotlib is currently using a non-GUI backend, \"\n"
     ]
    },
    {
     "data": {
      "image/png": "[encoded data removed]",
      "text/plain": [
       "<Figure size 432x288 with 1 Axes>"
      ]
     },
     "metadata": {},
     "output_type": "display_data"
    }
   ],
   "source": [
    "# Income by MoneyForLearning\n",
    "fig, ax = plt.subplots()\n",
    "ax.scatter(x=subset['MoneyForLearning'], y=subset['Income'], color=\"#52ECCE\")\n",
    "\n",
    "ax.set_title(\"Income by MoneyForLearning\")\n",
    "ax.set_ylabel(\"Income\")\n",
    "ax.set_xlabel(\"MoneyForLearning\")\n",
    "\n",
    "ax.spines['right'].set_visible(False)\n",
    "ax.spines['top'].set_visible(False)\n",
    "ax.spines['bottom'].set_visible(True)\n",
    "ax.spines['left'].set_visible(True)\n",
    "ax.tick_params(bottom=False, left=False)\n",
    "\n",
    "tick_labels = [\"$\"+str(i)+\"K\" for i in range(-50, 400, 50)]\n",
    "ax.set_yticklabels(tick_labels)\n",
    "\n",
    "tick_labels = [\"$\"+str(i)+\"K\" for i in range(-25, 200, 25)]\n",
    "ax.set_xticklabels(tick_labels)\n",
    "\n",
    "fig.show()\n",
    "\n",
    "# for saving\n",
    "fig.savefig('figure3.png', facecolor=fig.get_facecolor(), edgecolor='none')"
   ]
  },
  {
   "cell_type": "code",
   "execution_count": 25,
   "metadata": {
    "colab": {
     "base_uri": "https://localhost:8080/",
     "height": 70
    },
    "colab_type": "code",
    "executionInfo": {
     "elapsed": 186,
     "status": "ok",
     "timestamp": 1578439538608,
     "user": {
      "displayName": "Ben de Vera",
      "photoUrl": "https://lh3.googleusercontent.com/a-/AAuE7mA3DLNfhTHUfZFWeFjapCnOSkof6GfUffa-k9VA=s64",
      "userId": "02830271359296331790"
     },
     "user_tz": 420
    },
    "id": "wIKyhntfEK7x",
    "outputId": "807c0883-4fba-4436-d16b-5415ac50549c"
   },
   "outputs": [
    {
     "name": "stdout",
     "output_type": "stream",
     "text": [
      "Average months programming for software developer: 57\n",
      "Average years programming for software develoeprs: 4.75\n",
      "Average money spent learning for software developer: 3427\n"
     ]
    }
   ],
   "source": [
    "av_month = int(devs['MonthsProgramming'].mean())\n",
    "av_year = round(int(devs['MonthsProgramming'].mean())/12, 2)\n",
    "av_money = int(devs['MoneyForLearning'].mean())\n",
    "print(\"Average months programming for software developer:\", av_month)\n",
    "print(\"Average years programming for software develoeprs:\", av_year)\n",
    "print(\"Average money spent learning for software developer:\", av_money)"
   ]
  },
  {
   "cell_type": "markdown",
   "metadata": {
    "colab_type": "text",
    "id": "uHWWD1byLuXP"
   },
   "source": [
    "## Section 2 Takeaways:\n",
    "\n",
    "- People seem to be spending less and less (given so many online resources)\n",
    "\n",
    "- Months programming and Age are the columns most positevly correlated with income. "
   ]
  },
  {
   "cell_type": "markdown",
   "metadata": {
    "colab_type": "text",
    "id": "554_4vbk72PZ"
   },
   "source": [
    "## Section 3 Resource Analysis:"
   ]
  },
  {
   "cell_type": "code",
   "execution_count": 26,
   "metadata": {
    "colab": {
     "base_uri": "https://localhost:8080/",
     "height": 283
    },
    "colab_type": "code",
    "executionInfo": {
     "elapsed": 178,
     "status": "ok",
     "timestamp": 1578439544711,
     "user": {
      "displayName": "Ben de Vera",
      "photoUrl": "https://lh3.googleusercontent.com/a-/AAuE7mA3DLNfhTHUfZFWeFjapCnOSkof6GfUffa-k9VA=s64",
      "userId": "02830271359296331790"
     },
     "user_tz": 420
    },
    "id": "FarGUp9vA1H4",
    "outputId": "a3db103f-2eb0-44f6-deaa-c34f3c1f6f04"
   },
   "outputs": [
    {
     "name": "stdout",
     "output_type": "stream",
     "text": [
      "Codecademy mean among developers: 0.55\n",
      "CodeWars mean among developers: 0.16\n",
      "Coursera mean among developers: 0.23\n",
      "EdX mean among developers: 0.15\n",
      "EggHead mean among developers: 0.09\n",
      "FCC mean among developers: 0.52\n",
      "HackerRank mean among developers: 0.08\n",
      "KhanAcademy mean among developers: 0.22\n",
      "Lynda mean among developers: 0.13\n",
      "MDN mean among developers: 0.29\n",
      "PluralSight mean among developers: 0.32\n",
      "StackOverflow mean among developers: 0.48\n",
      "Treehouse mean among developers: 0.14\n",
      "Udacity mean among developers: 0.23\n",
      "Udemy mean among developers: 0.35\n"
     ]
    }
   ],
   "source": [
    "# grabbing data for figure 4 \n",
    "resource_data = {}\n",
    "for column in resource_columns_one:\n",
    "  print(column[8:]+\" mean among developers:\", round(devs[column].mean(), 2))\n",
    "  resource_data[column[8:]] = round(devs[column].mean(), 2)"
   ]
  },
  {
   "cell_type": "code",
   "execution_count": 27,
   "metadata": {
    "colab": {
     "base_uri": "https://localhost:8080/",
     "height": 343
    },
    "colab_type": "code",
    "executionInfo": {
     "elapsed": 614,
     "status": "ok",
     "timestamp": 1578439553007,
     "user": {
      "displayName": "Ben de Vera",
      "photoUrl": "https://lh3.googleusercontent.com/a-/AAuE7mA3DLNfhTHUfZFWeFjapCnOSkof6GfUffa-k9VA=s64",
      "userId": "02830271359296331790"
     },
     "user_tz": 420
    },
    "id": "xKKEBeD7BA-9",
    "outputId": "3c71d7b4-beb8-4109-f774-10583f5925f6"
   },
   "outputs": [
    {
     "name": "stderr",
     "output_type": "stream",
     "text": [
      "/Users/bendevera/Library/Python/3.6/lib/python/site-packages/matplotlib/figure.py:459: UserWarning: matplotlib is currently using a non-GUI backend, so cannot show the figure\n",
      "  \"matplotlib is currently using a non-GUI backend, \"\n"
     ]
    },
    {
     "data": {
      "image/png": "[encoded data removed]",
      "text/plain": [
       "<Figure size 432x288 with 1 Axes>"
      ]
     },
     "metadata": {},
     "output_type": "display_data"
    }
   ],
   "source": [
    "# creating figure 4\n",
    "fig, ax = plt.subplots()\n",
    "ax.figure.set_figure((20, 3))\n",
    "\n",
    "def sort_list(list1, list2): \n",
    "    zipped_pairs = zip(list2, list1) \n",
    "    z = [x for _, x in sorted(zipped_pairs)] \n",
    "    return z\n",
    "\n",
    "x = []\n",
    "height = []\n",
    "\n",
    "for key, value in resource_data.items():\n",
    "  x.append(key)\n",
    "  height.append(value)\n",
    "\n",
    "x = sort_list(x, height)\n",
    "height = sorted(height)\n",
    "\n",
    "ax.bar(x=x, height=height, align='edge', width=0.3, color=\"#46409c\")\n",
    "ax.set_title(\"% of software devs that use a resource\")\n",
    "tick_labels = [str(i)+\"%\" for i in range(0, 60, 10)]\n",
    "ax.set_yticklabels(tick_labels)\n",
    "\n",
    "for tick in ax.get_xticklabels():\n",
    "    tick.set_rotation(90)\n",
    "\n",
    "rects = ax.patches\n",
    "labels = [str(int(elem*100))+\"%\" for elem in height]\n",
    "for rect, label in zip(rects, labels):\n",
    "    height = rect.get_height()\n",
    "    ax.text(rect.get_x() + rect.get_width() / 2, height, label,\n",
    "            ha='center', va='bottom')\n",
    "\n",
    "ax.spines['right'].set_visible(False)\n",
    "ax.spines['top'].set_visible(False)\n",
    "ax.spines['bottom'].set_visible(False)\n",
    "ax.spines['left'].set_visible(False)\n",
    "ax.tick_params(bottom=False, left=True)\n",
    "\n",
    "fig.tight_layout()\n",
    "fig.show()\n",
    "\n",
    "# for saving\n",
    "fig.savefig('figure4.png', facecolor=fig.get_facecolor(), edgecolor='none',\n",
    "           bbox_inches='tight')"
   ]
  },
  {
   "cell_type": "code",
   "execution_count": 28,
   "metadata": {},
   "outputs": [
    {
     "name": "stdout",
     "output_type": "stream",
     "text": [
      "Codecademy mean among developers: 0.56\n",
      "CodeWars mean among developers: 0.1\n",
      "Coursera mean among developers: 0.19\n",
      "EdX mean among developers: 0.15\n",
      "EggHead mean among developers: 0.03\n",
      "FCC mean among developers: 0.7\n",
      "HackerRank mean among developers: 0.05\n",
      "KhanAcademy mean among developers: 0.24\n",
      "Lynda mean among developers: 0.11\n",
      "MDN mean among developers: 0.21\n",
      "PluralSight mean among developers: 0.14\n",
      "StackOverflow mean among developers: 0.35\n",
      "Treehouse mean among developers: 0.1\n",
      "Udacity mean among developers: 0.17\n",
      "Udemy mean among developers: 0.31\n"
     ]
    }
   ],
   "source": [
    "# grabbing data for figure 5 (this time with WHOLE dataset)\n",
    "resource_data = {}\n",
    "for column in resource_columns_one:\n",
    "  print(column[8:]+\" mean among developers:\", round(merged[column].mean(), 2))\n",
    "  resource_data[column[8:]] = round(merged[column].mean(), 2)"
   ]
  },
  {
   "cell_type": "code",
   "execution_count": 30,
   "metadata": {},
   "outputs": [
    {
     "name": "stderr",
     "output_type": "stream",
     "text": [
      "/Users/bendevera/Library/Python/3.6/lib/python/site-packages/matplotlib/figure.py:459: UserWarning: matplotlib is currently using a non-GUI backend, so cannot show the figure\n",
      "  \"matplotlib is currently using a non-GUI backend, \"\n"
     ]
    },
    {
     "data": {
      "image/png": "[encoded data removed]",
      "text/plain": [
       "<Figure size 432x288 with 1 Axes>"
      ]
     },
     "metadata": {},
     "output_type": "display_data"
    }
   ],
   "source": [
    "# creating figure 5\n",
    "fig, ax = plt.subplots()\n",
    "ax.figure.set_figure((20, 3))\n",
    "\n",
    "x = []\n",
    "height = []\n",
    "\n",
    "for key, value in resource_data.items():\n",
    "  x.append(key)\n",
    "  height.append(value)\n",
    "\n",
    "x = sort_list(x, height)\n",
    "height = sorted(height)\n",
    "\n",
    "ax.bar(x=x, height=height, align='edge', width=0.3, color=\"#46409c\")\n",
    "ax.set_title(\"% of survey that use a resource\")\n",
    "tick_labels = [str(i)+\"%\" for i in range(0, 80, 10)]\n",
    "ax.set_yticklabels(tick_labels)\n",
    "\n",
    "for tick in ax.get_xticklabels():\n",
    "    tick.set_rotation(90)\n",
    "\n",
    "rects = ax.patches\n",
    "labels = [str(int(elem*100))+\"%\" for elem in height]\n",
    "for rect, label in zip(rects, labels):\n",
    "    height = rect.get_height()\n",
    "    ax.text(rect.get_x() + rect.get_width() / 2, height, label,\n",
    "            ha='center', va='bottom')\n",
    "\n",
    "ax.spines['right'].set_visible(False)\n",
    "ax.spines['top'].set_visible(False)\n",
    "ax.spines['bottom'].set_visible(False)\n",
    "ax.spines['left'].set_visible(False)\n",
    "ax.tick_params(bottom=False, left=True)\n",
    "\n",
    "fig.show()\n",
    "fig.savefig('figure5.png', facecolor=fig.get_facecolor(), edgecolor='none',\n",
    "           bbox_inches='tight')"
   ]
  },
  {
   "cell_type": "markdown",
   "metadata": {
    "colab_type": "text",
    "id": "2GmMnyxKSGS4"
   },
   "source": [
    "### Section 3 Takeaway: Codeacademy, FCC and Stack Overflow are the most common resources among US Software developers. "
   ]
  },
  {
   "cell_type": "markdown",
   "metadata": {
    "colab_type": "text",
    "id": "PkUkaB81QjZL"
   },
   "source": [
    "## Section 4: Grouping by school degree"
   ]
  },
  {
   "cell_type": "code",
   "execution_count": 33,
   "metadata": {
    "colab": {
     "base_uri": "https://localhost:8080/",
     "height": 905
    },
    "colab_type": "code",
    "executionInfo": {
     "elapsed": 347,
     "status": "ok",
     "timestamp": 1578439561751,
     "user": {
      "displayName": "Ben de Vera",
      "photoUrl": "https://lh3.googleusercontent.com/a-/AAuE7mA3DLNfhTHUfZFWeFjapCnOSkof6GfUffa-k9VA=s64",
      "userId": "02830271359296331790"
     },
     "user_tz": 420
    },
    "id": "ssu7ZqNmQpeZ",
    "outputId": "5f29e0a1-ae57-4ee3-a44a-49fe797add27"
   },
   "outputs": [
    {
     "name": "stdout",
     "output_type": "stream",
     "text": [
      "Ph.D.\n",
      "Average Income: 77633.58518518519\n",
      "% software devs: 0.1695906432748538\n",
      "Num software devs: 29\n",
      "\n",
      "associate's degree\n",
      "Average Income: 43600.878758486906\n",
      "% software devs: 0.12157648630594522\n",
      "Num software devs: 182\n",
      "\n",
      "bachelor's degree\n",
      "Average Income: 51390.178132206\n",
      "% software devs: 0.2159075271776524\n",
      "Num software devs: 1569\n",
      "\n",
      "high school diploma or equivalent (GED)\n",
      "Average Income: 33708.20895522388\n",
      "% software devs: 0.08039816232771822\n",
      "Num software devs: 105\n",
      "\n",
      "master's degree (non-professional)\n",
      "Average Income: 60935.53883029722\n",
      "% software devs: 0.19138755980861244\n",
      "Num software devs: 280\n",
      "\n",
      "no high school (secondary school)\n",
      "Average Income: 33421.730769230766\n",
      "% software devs: 0.0639269406392694\n",
      "Num software devs: 14\n",
      "\n",
      "professional degree (MBA, MD, JD, etc.)\n",
      "Average Income: 79307.1729957806\n",
      "% software devs: 0.125\n",
      "Num software devs: 91\n",
      "\n",
      "some college credit, no degree\n",
      "Average Income: 38984.80543478261\n",
      "% software devs: 0.11100853911839373\n",
      "Num software devs: 481\n",
      "\n",
      "some high school\n",
      "Average Income: 31141.241134751774\n",
      "% software devs: 0.0410958904109589\n",
      "Num software devs: 27\n",
      "\n",
      "trade, technical, or vocational training\n",
      "Average Income: 44446.64705882353\n",
      "% software devs: 0.11434108527131782\n",
      "Num software devs: 59\n",
      "\n"
     ]
    }
   ],
   "source": [
    "# looping through the differnt groups of responders (grouped by school degree)\n",
    "groups = {}\n",
    "for group, data in merged.groupby(by=\"SchoolDegree\"):\n",
    "  print(group)\n",
    "  print(\"Average Income:\", data['Income'].mean())\n",
    "  print(\"% software devs:\", data['IsSoftwareDev'].mean())\n",
    "  print(\"Num software devs:\", data[data['IsSoftwareDev'] == 1].shape[0])\n",
    "  print()\n",
    "  groups[group] = data "
   ]
  },
  {
   "cell_type": "markdown",
   "metadata": {
    "colab_type": "text",
    "id": "6vdbGPpSKwyS"
   },
   "source": [
    "### Section 4 Takeaway: Non professional Masters Degrees and Bachelors Degrees have the highest density of software developers. \n"
   ]
  }
 ],
 "metadata": {
  "colab": {
   "collapsed_sections": [],
   "name": "freeCodeCampSurveyExploration.ipynb",
   "provenance": []
  },
  "kernelspec": {
   "display_name": "Python 3",
   "language": "python",
   "name": "python3"
  },
  "language_info": {
   "codemirror_mode": {
    "name": "ipython",
    "version": 3
   },
   "file_extension": ".py",
   "mimetype": "text/x-python",
   "name": "python",
   "nbconvert_exporter": "python",
   "pygments_lexer": "ipython3",
   "version": "3.6.5"
  }
 },
 "nbformat": 4,
 "nbformat_minor": 1
}
